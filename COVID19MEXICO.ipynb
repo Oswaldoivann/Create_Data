{
  "nbformat": 4,
  "nbformat_minor": 0,
  "metadata": {
    "colab": {
      "name": "SARSCOV2.ipynb",
      "provenance": [],
      "collapsed_sections": [],
      "mount_file_id": "1L9_st51mKJbdJifi2DpHmhgLjn9O0WPi",
      "authorship_tag": "ABX9TyNefUyyYlm0g9Fd0HyBJG0s"
    },
    "kernelspec": {
      "name": "python3",
      "display_name": "Python 3"
    },
    "language_info": {
      "name": "python"
    }
  },
  "cells": [
    {
      "cell_type": "markdown",
      "metadata": {
        "id": "e0V8vyo_NOZR"
      },
      "source": [
        "## Transformacion a datos categoricos\n",
        "\n"
      ]
    },
    {
      "cell_type": "code",
      "metadata": {
        "id": "JUha3c2aOVKB"
      },
      "source": [
        "import pandas as pd\n",
        "import numpy as np\n",
        "import seaborn as sns"
      ],
      "execution_count": 2,
      "outputs": []
    },
    {
      "cell_type": "code",
      "metadata": {
        "colab": {
          "base_uri": "https://localhost:8080/"
        },
        "id": "7VGIWnshkdun",
        "outputId": "e68ac4f2-0730-4622-8441-e735206fcb7b"
      },
      "source": [
        "from google.colab import drive\n",
        "drive.mount('/content/drive')"
      ],
      "execution_count": 3,
      "outputs": [
        {
          "output_type": "stream",
          "name": "stdout",
          "text": [
            "Drive already mounted at /content/drive; to attempt to forcibly remount, call drive.mount(\"/content/drive\", force_remount=True).\n"
          ]
        }
      ]
    },
    {
      "cell_type": "code",
      "metadata": {
        "id": "S-gsIhS0Ocsu",
        "colab": {
          "base_uri": "https://localhost:8080/"
        },
        "outputId": "fbf8f1e9-540c-4c29-f3fd-a6c329e20ee3"
      },
      "source": [
        "df = pd.read_csv('/content/drive/MyDrive/DATOS/COVID19MEXICO.csv')"
      ],
      "execution_count": 4,
      "outputs": [
        {
          "output_type": "stream",
          "name": "stderr",
          "text": [
            "/usr/local/lib/python3.7/dist-packages/IPython/core/interactiveshell.py:2718: DtypeWarning: Columns (38) have mixed types.Specify dtype option on import or set low_memory=False.\n",
            "  interactivity=interactivity, compiler=compiler, result=result)\n"
          ]
        }
      ]
    },
    {
      "cell_type": "code",
      "metadata": {
        "id": "fNKeo9DnJDu_",
        "colab": {
          "base_uri": "https://localhost:8080/"
        },
        "outputId": "26b3d8b3-0ad3-4ac2-c3e4-2476571a2faa"
      },
      "source": [
        "df.columns"
      ],
      "execution_count": 4,
      "outputs": [
        {
          "output_type": "execute_result",
          "data": {
            "text/plain": [
              "Index(['FECHA_ACTUALIZACION', 'ID_REGISTRO', 'ORIGEN', 'SECTOR', 'ENTIDAD_UM',\n",
              "       'SEXO', 'ENTIDAD_NAC', 'ENTIDAD_RES', 'MUNICIPIO_RES', 'TIPO_PACIENTE',\n",
              "       'FECHA_INGRESO', 'FECHA_SINTOMAS', 'FECHA_DEF', 'INTUBADO', 'NEUMONIA',\n",
              "       'EDAD', 'NACIONALIDAD', 'EMBARAZO', 'HABLA_LENGUA_INDIG', 'INDIGENA',\n",
              "       'DIABETES', 'EPOC', 'ASMA', 'INMUSUPR', 'HIPERTENSION', 'OTRA_COM',\n",
              "       'CARDIOVASCULAR', 'OBESIDAD', 'RENAL_CRONICA', 'TABAQUISMO',\n",
              "       'OTRO_CASO', 'TOMA_MUESTRA_LAB', 'RESULTADO_LAB',\n",
              "       'TOMA_MUESTRA_ANTIGENO', 'RESULTADO_ANTIGENO', 'CLASIFICACION_FINAL',\n",
              "       'MIGRANTE', 'PAIS_NACIONALIDAD', 'PAIS_ORIGEN', 'UCI'],\n",
              "      dtype='object')"
            ]
          },
          "metadata": {},
          "execution_count": 4
        }
      ]
    },
    {
      "cell_type": "code",
      "metadata": {
        "colab": {
          "base_uri": "https://localhost:8080/"
        },
        "id": "1hVEGl8fV-sY",
        "outputId": "4ed39ce8-1f02-435e-b3c0-ead7360a9acc"
      },
      "source": [
        "df.shape"
      ],
      "execution_count": 5,
      "outputs": [
        {
          "output_type": "execute_result",
          "data": {
            "text/plain": [
              "(11808599, 40)"
            ]
          },
          "metadata": {},
          "execution_count": 5
        }
      ]
    },
    {
      "cell_type": "code",
      "metadata": {
        "id": "Rjbb-qRZWpIZ",
        "colab": {
          "base_uri": "https://localhost:8080/",
          "height": 167
        },
        "outputId": "59e9127b-db21-459d-fb48-354bbf563993"
      },
      "source": [
        "df.head(2)"
      ],
      "execution_count": 6,
      "outputs": [
        {
          "output_type": "execute_result",
          "data": {
            "text/html": [
              "<div>\n",
              "<style scoped>\n",
              "    .dataframe tbody tr th:only-of-type {\n",
              "        vertical-align: middle;\n",
              "    }\n",
              "\n",
              "    .dataframe tbody tr th {\n",
              "        vertical-align: top;\n",
              "    }\n",
              "\n",
              "    .dataframe thead th {\n",
              "        text-align: right;\n",
              "    }\n",
              "</style>\n",
              "<table border=\"1\" class=\"dataframe\">\n",
              "  <thead>\n",
              "    <tr style=\"text-align: right;\">\n",
              "      <th></th>\n",
              "      <th>FECHA_ACTUALIZACION</th>\n",
              "      <th>ID_REGISTRO</th>\n",
              "      <th>ORIGEN</th>\n",
              "      <th>SECTOR</th>\n",
              "      <th>ENTIDAD_UM</th>\n",
              "      <th>SEXO</th>\n",
              "      <th>ENTIDAD_NAC</th>\n",
              "      <th>ENTIDAD_RES</th>\n",
              "      <th>MUNICIPIO_RES</th>\n",
              "      <th>TIPO_PACIENTE</th>\n",
              "      <th>FECHA_INGRESO</th>\n",
              "      <th>FECHA_SINTOMAS</th>\n",
              "      <th>FECHA_DEF</th>\n",
              "      <th>INTUBADO</th>\n",
              "      <th>NEUMONIA</th>\n",
              "      <th>EDAD</th>\n",
              "      <th>NACIONALIDAD</th>\n",
              "      <th>EMBARAZO</th>\n",
              "      <th>HABLA_LENGUA_INDIG</th>\n",
              "      <th>INDIGENA</th>\n",
              "      <th>DIABETES</th>\n",
              "      <th>EPOC</th>\n",
              "      <th>ASMA</th>\n",
              "      <th>INMUSUPR</th>\n",
              "      <th>HIPERTENSION</th>\n",
              "      <th>OTRA_COM</th>\n",
              "      <th>CARDIOVASCULAR</th>\n",
              "      <th>OBESIDAD</th>\n",
              "      <th>RENAL_CRONICA</th>\n",
              "      <th>TABAQUISMO</th>\n",
              "      <th>OTRO_CASO</th>\n",
              "      <th>TOMA_MUESTRA_LAB</th>\n",
              "      <th>RESULTADO_LAB</th>\n",
              "      <th>TOMA_MUESTRA_ANTIGENO</th>\n",
              "      <th>RESULTADO_ANTIGENO</th>\n",
              "      <th>CLASIFICACION_FINAL</th>\n",
              "      <th>MIGRANTE</th>\n",
              "      <th>PAIS_NACIONALIDAD</th>\n",
              "      <th>PAIS_ORIGEN</th>\n",
              "      <th>UCI</th>\n",
              "    </tr>\n",
              "  </thead>\n",
              "  <tbody>\n",
              "    <tr>\n",
              "      <th>0</th>\n",
              "      <td>2021-11-26</td>\n",
              "      <td>z4e838</td>\n",
              "      <td>1</td>\n",
              "      <td>12</td>\n",
              "      <td>9</td>\n",
              "      <td>2</td>\n",
              "      <td>15</td>\n",
              "      <td>15</td>\n",
              "      <td>95</td>\n",
              "      <td>2</td>\n",
              "      <td>2020-02-18</td>\n",
              "      <td>2020-02-18</td>\n",
              "      <td>2020-05-11</td>\n",
              "      <td>1</td>\n",
              "      <td>1</td>\n",
              "      <td>60</td>\n",
              "      <td>1</td>\n",
              "      <td>97</td>\n",
              "      <td>2</td>\n",
              "      <td>2</td>\n",
              "      <td>2</td>\n",
              "      <td>2</td>\n",
              "      <td>2</td>\n",
              "      <td>2</td>\n",
              "      <td>2</td>\n",
              "      <td>2</td>\n",
              "      <td>2</td>\n",
              "      <td>2</td>\n",
              "      <td>2</td>\n",
              "      <td>1</td>\n",
              "      <td>99</td>\n",
              "      <td>1</td>\n",
              "      <td>2</td>\n",
              "      <td>2</td>\n",
              "      <td>97</td>\n",
              "      <td>7</td>\n",
              "      <td>99</td>\n",
              "      <td>México</td>\n",
              "      <td>97</td>\n",
              "      <td>2</td>\n",
              "    </tr>\n",
              "    <tr>\n",
              "      <th>1</th>\n",
              "      <td>2021-11-26</td>\n",
              "      <td>z2b144</td>\n",
              "      <td>2</td>\n",
              "      <td>12</td>\n",
              "      <td>9</td>\n",
              "      <td>1</td>\n",
              "      <td>15</td>\n",
              "      <td>9</td>\n",
              "      <td>2</td>\n",
              "      <td>1</td>\n",
              "      <td>2020-06-15</td>\n",
              "      <td>2020-06-12</td>\n",
              "      <td>9999-99-99</td>\n",
              "      <td>97</td>\n",
              "      <td>2</td>\n",
              "      <td>13</td>\n",
              "      <td>1</td>\n",
              "      <td>2</td>\n",
              "      <td>99</td>\n",
              "      <td>2</td>\n",
              "      <td>2</td>\n",
              "      <td>2</td>\n",
              "      <td>2</td>\n",
              "      <td>2</td>\n",
              "      <td>2</td>\n",
              "      <td>2</td>\n",
              "      <td>2</td>\n",
              "      <td>2</td>\n",
              "      <td>2</td>\n",
              "      <td>2</td>\n",
              "      <td>1</td>\n",
              "      <td>1</td>\n",
              "      <td>4</td>\n",
              "      <td>2</td>\n",
              "      <td>97</td>\n",
              "      <td>5</td>\n",
              "      <td>99</td>\n",
              "      <td>México</td>\n",
              "      <td>97</td>\n",
              "      <td>97</td>\n",
              "    </tr>\n",
              "  </tbody>\n",
              "</table>\n",
              "</div>"
            ],
            "text/plain": [
              "  FECHA_ACTUALIZACION ID_REGISTRO  ORIGEN  ...  PAIS_NACIONALIDAD  PAIS_ORIGEN  UCI\n",
              "0          2021-11-26      z4e838       1  ...             México           97    2\n",
              "1          2021-11-26      z2b144       2  ...             México           97   97\n",
              "\n",
              "[2 rows x 40 columns]"
            ]
          },
          "metadata": {},
          "execution_count": 6
        }
      ]
    },
    {
      "cell_type": "code",
      "metadata": {
        "colab": {
          "base_uri": "https://localhost:8080/"
        },
        "id": "zgAcl1kYqSM2",
        "outputId": "6dd5de7f-503b-4e90-d351-3b4fdd75842b"
      },
      "source": [
        "df.dtypes"
      ],
      "execution_count": 7,
      "outputs": [
        {
          "output_type": "execute_result",
          "data": {
            "text/plain": [
              "FECHA_ACTUALIZACION      object\n",
              "ID_REGISTRO              object\n",
              "ORIGEN                    int64\n",
              "SECTOR                    int64\n",
              "ENTIDAD_UM                int64\n",
              "SEXO                      int64\n",
              "ENTIDAD_NAC               int64\n",
              "ENTIDAD_RES               int64\n",
              "MUNICIPIO_RES             int64\n",
              "TIPO_PACIENTE             int64\n",
              "FECHA_INGRESO            object\n",
              "FECHA_SINTOMAS           object\n",
              "FECHA_DEF                object\n",
              "INTUBADO                  int64\n",
              "NEUMONIA                  int64\n",
              "EDAD                      int64\n",
              "NACIONALIDAD              int64\n",
              "EMBARAZO                  int64\n",
              "HABLA_LENGUA_INDIG        int64\n",
              "INDIGENA                  int64\n",
              "DIABETES                  int64\n",
              "EPOC                      int64\n",
              "ASMA                      int64\n",
              "INMUSUPR                  int64\n",
              "HIPERTENSION              int64\n",
              "OTRA_COM                  int64\n",
              "CARDIOVASCULAR            int64\n",
              "OBESIDAD                  int64\n",
              "RENAL_CRONICA             int64\n",
              "TABAQUISMO                int64\n",
              "OTRO_CASO                 int64\n",
              "TOMA_MUESTRA_LAB          int64\n",
              "RESULTADO_LAB             int64\n",
              "TOMA_MUESTRA_ANTIGENO     int64\n",
              "RESULTADO_ANTIGENO        int64\n",
              "CLASIFICACION_FINAL       int64\n",
              "MIGRANTE                  int64\n",
              "PAIS_NACIONALIDAD        object\n",
              "PAIS_ORIGEN              object\n",
              "UCI                       int64\n",
              "dtype: object"
            ]
          },
          "metadata": {},
          "execution_count": 7
        }
      ]
    },
    {
      "cell_type": "code",
      "metadata": {
        "colab": {
          "base_uri": "https://localhost:8080/"
        },
        "id": "3tF3G2xup3iQ",
        "outputId": "7fd5d9c4-64a5-4d8f-bf9e-f8a1e043554a"
      },
      "source": [
        "df.FECHA_ACTUALIZACION.unique()"
      ],
      "execution_count": 8,
      "outputs": [
        {
          "output_type": "execute_result",
          "data": {
            "text/plain": [
              "array(['2021-11-26'], dtype=object)"
            ]
          },
          "metadata": {},
          "execution_count": 8
        }
      ]
    },
    {
      "cell_type": "code",
      "metadata": {
        "colab": {
          "base_uri": "https://localhost:8080/"
        },
        "id": "Hh56EyK1p_Ui",
        "outputId": "377a9a5e-9180-4d2d-8ab5-f471bd1c23c5"
      },
      "source": [
        "df.ORIGEN.unique()"
      ],
      "execution_count": 9,
      "outputs": [
        {
          "output_type": "execute_result",
          "data": {
            "text/plain": [
              "array([1, 2])"
            ]
          },
          "metadata": {},
          "execution_count": 9
        }
      ]
    },
    {
      "cell_type": "code",
      "metadata": {
        "id": "_Ab6D5_NNJzs"
      },
      "source": [
        "df['ORIGEN'] = df['ORIGEN'].replace({1: 'USMER',\n",
        "                                     2: 'FUERA DE USMER'})"
      ],
      "execution_count": 10,
      "outputs": []
    },
    {
      "cell_type": "code",
      "metadata": {
        "colab": {
          "base_uri": "https://localhost:8080/"
        },
        "id": "zOCzwjPiukIu",
        "outputId": "436fb335-c5a4-4eb6-cddb-0c8fa63858fc"
      },
      "source": [
        "df.SECTOR.unique()"
      ],
      "execution_count": 11,
      "outputs": [
        {
          "output_type": "execute_result",
          "data": {
            "text/plain": [
              "array([12, 13,  6,  3,  8,  9,  4,  5,  2, 11, 10,  7,  1, 99, 14])"
            ]
          },
          "metadata": {},
          "execution_count": 11
        }
      ]
    },
    {
      "cell_type": "code",
      "metadata": {
        "id": "_ovmjUdkudi5"
      },
      "source": [
        "df['SECTOR'] = df['SECTOR'].replace({1: 'CRUZ ROJA',\n",
        "                                     2: 'DIF',\n",
        "                                     3: 'ESTATAL',\n",
        "                                     4: 'IMSS',\n",
        "                                     5: 'IMSS-BIENESTAR',\n",
        "                                     6: 'ISSTE',\n",
        "                                     7: 'MUNICIPAL',\n",
        "                                     8: 'PEMNEX',\n",
        "                                     9: 'PRIVADA',\n",
        "                                     10: 'SEDENA',\n",
        "                                     11: 'SEMAR',\n",
        "                                     12: 'SSA',\n",
        "                                     13: 'UNIVERSITARIO',\n",
        "                                     99: 'NO ESPECIFICADO'})"
      ],
      "execution_count": 12,
      "outputs": []
    },
    {
      "cell_type": "code",
      "metadata": {
        "colab": {
          "base_uri": "https://localhost:8080/"
        },
        "id": "fFygM0qo0AaT",
        "outputId": "035dfa40-2728-459b-f855-83045063ca34"
      },
      "source": [
        "df.ENTIDAD_UM.unique()"
      ],
      "execution_count": 14,
      "outputs": [
        {
          "output_type": "execute_result",
          "data": {
            "text/plain": [
              "array([ 9, 16, 18,  7, 19, 13, 29, 27, 31, 12, 22,  2, 26, 32,  1,  4,  8,\n",
              "       23, 24, 15, 14,  5, 17, 10,  3, 21, 30, 20, 28,  6, 11, 25])"
            ]
          },
          "metadata": {},
          "execution_count": 14
        }
      ]
    },
    {
      "cell_type": "code",
      "metadata": {
        "id": "_-Y1Rgq10Euh"
      },
      "source": [
        "df['ENTIDAD_UM'] = df['ENTIDAD_UM'].replace({1: 'AGUASCALIENTES',\n",
        "                                             2: 'BAJA CALIFORNIA',\n",
        "                                             3: 'BAJA CALIFORNIA SUR',\n",
        "                                             4: 'CAMPECHE',\n",
        "                                             5: 'COAHUILA DE ZARAGOZA',\n",
        "                                             6: 'COLIMA',\n",
        "                                             7: 'CHIAPAS',\n",
        "                                             8: 'CHIHUAHUA',\n",
        "                                             9: 'CIUDAD DE MÉXICO',\n",
        "                                             10: 'DURANGO',\n",
        "                                             11: 'GUANAJUATO',\n",
        "                                             12: 'GUERRERO',\n",
        "                                             13: 'HIDALGO',\n",
        "                                             14: 'JALISCO',\n",
        "                                             15: 'MÉXICO',\n",
        "                                             16: 'MICHOACÁN DE OCAMPO',\n",
        "                                             17: 'MORELOS',\n",
        "                                             18: 'NAYARIT',\n",
        "                                             19: 'NUEVO LEÓN',\n",
        "                                             20: 'OAXACA',\n",
        "                                             21: 'PUEBLA',\n",
        "                                             22: 'QUERÉTARO',\n",
        "                                             23: 'QUINTANA ROO',\n",
        "                                             24: 'SAN LUIS POTOSÍ',\n",
        "                                             25: 'SINALOA',\n",
        "                                             26: 'SONORA',\n",
        "                                             27: 'TABASCO',\n",
        "                                             28: 'TAMAULIPAS',\n",
        "                                             29: 'TLAXCALA',\n",
        "                                             30: 'VERACRUZ DE IGNACIO DE LA LLAVE',\n",
        "                                             31: 'YUCATÁN',\n",
        "                                             32: 'ZACATECAS',\n",
        "                                             36: 'ESTADOS UNIDOS MEXICANOS',\n",
        "                                             97: 'NO APLICA',\n",
        "                                             98:'SE IGNORA',\n",
        "                                             99: 'NO ESPECIFICADO'})"
      ],
      "execution_count": 17,
      "outputs": []
    },
    {
      "cell_type": "code",
      "metadata": {
        "colab": {
          "base_uri": "https://localhost:8080/"
        },
        "id": "u-7l48MG3Bdk",
        "outputId": "8bb690c2-9758-4c95-d129-17350aad95f7"
      },
      "source": [
        "df.SEXO.unique()"
      ],
      "execution_count": 19,
      "outputs": [
        {
          "output_type": "execute_result",
          "data": {
            "text/plain": [
              "array([2, 1])"
            ]
          },
          "metadata": {},
          "execution_count": 19
        }
      ]
    },
    {
      "cell_type": "code",
      "metadata": {
        "id": "nCvD6lMi3G9t"
      },
      "source": [
        "df['SEXO'] = df['SEXO'].replace({1: 'MUJER',\n",
        "                                 2: 'HOMBRE',\n",
        "                                 3: 'NO ESPECIFICADO'})"
      ],
      "execution_count": 5,
      "outputs": []
    },
    {
      "cell_type": "code",
      "metadata": {
        "colab": {
          "base_uri": "https://localhost:8080/"
        },
        "id": "Hdrp-3P73gfY",
        "outputId": "32a9ee1b-e118-4e79-c1e3-acae328af5be"
      },
      "source": [
        "df.ENTIDAD_NAC.unique()"
      ],
      "execution_count": 6,
      "outputs": [
        {
          "output_type": "execute_result",
          "data": {
            "text/plain": [
              "array([15, 16, 18,  7,  9, 19, 28, 29, 27, 31, 12,  2, 26, 32, 14, 21,  4,\n",
              "        8,  1, 24, 23, 10,  5, 17,  3, 30, 25, 22,  6, 11, 13, 20, 99])"
            ]
          },
          "metadata": {},
          "execution_count": 6
        }
      ]
    },
    {
      "cell_type": "code",
      "metadata": {
        "id": "qww4evnn3eMY"
      },
      "source": [
        "df['ENTIDAD_RES'] = df['ENTIDAD_RES'].replace({1: 'AGUASCALIENTES',\n",
        "                                               2: 'BAJA CALIFORNIA',\n",
        "                                               3: 'BAJA CALIFORNIA SUR',\n",
        "                                               4: 'CAMPECHE',\n",
        "                                               5: 'COAHUILA DE ZARAGOZA',\n",
        "                                               6: 'COLIMA',\n",
        "                                               7: 'CHIAPAS',\n",
        "                                               8: 'CHIHUAHUA',\n",
        "                                               9: 'CIUDAD DE MÉXICO',\n",
        "                                               10: 'DURANGO',\n",
        "                                               11: 'GUANAJUATO',\n",
        "                                               12: 'GUERRERO',\n",
        "                                               13: 'HIDALGO',\n",
        "                                               14: 'JALISCO',\n",
        "                                               15: 'MÉXICO',\n",
        "                                               16: 'MICHOACÁN DE OCAMPO',\n",
        "                                               17: 'MORELOS',\n",
        "                                               18: 'NAYARIT',\n",
        "                                               19: 'NUEVO LEÓN',\n",
        "                                               20: 'OAXACA',\n",
        "                                               21: 'PUEBLA',\n",
        "                                               22: 'QUERÉTARO',\n",
        "                                               23: 'QUINTANA ROO',\n",
        "                                               24: 'SAN LUIS POTOSÍ',\n",
        "                                               25: 'SINALOA',\n",
        "                                               26: 'SONORA',\n",
        "                                               27: 'TABASCO',\n",
        "                                               28: 'TAMAULIPAS',\n",
        "                                               29: 'TLAXCALA',\n",
        "                                               30: 'VERACRUZ DE IGNACIO DE LA LLAVE',\n",
        "                                               31: 'YUCATÁN',\n",
        "                                               32: 'ZACATECAS',\n",
        "                                               36: 'ESTADOS UNIDOS MEXICANOS',\n",
        "                                               97: 'NO APLICA',\n",
        "                                               98:'SE IGNORA',\n",
        "                                               99: 'NO ESPECIFICADO'})"
      ],
      "execution_count": 9,
      "outputs": []
    },
    {
      "cell_type": "code",
      "metadata": {
        "id": "CW6s8RgR4xgl"
      },
      "source": [
        "df.ENTIDAD_NAC.unique()"
      ],
      "execution_count": null,
      "outputs": []
    },
    {
      "cell_type": "code",
      "metadata": {
        "id": "v8CJ2jtp4w3s"
      },
      "source": [
        "df['ENTIDAD_NAC'] = df['ENTIDAD_NAC'].replace({1: 'AGUASCALIENTES',\n",
        "                                               2: 'BAJA CALIFORNIA',\n",
        "                                               3: 'BAJA CALIFORNIA SUR',\n",
        "                                               4: 'CAMPECHE',\n",
        "                                               5: 'COAHUILA DE ZARAGOZA',\n",
        "                                               6: 'COLIMA',\n",
        "                                               7: 'CHIAPAS',\n",
        "                                               8: 'CHIHUAHUA',\n",
        "                                               9: 'CIUDAD DE MÉXICO',\n",
        "                                               10: 'DURANGO',\n",
        "                                               11: 'GUANAJUATO',\n",
        "                                               12: 'GUERRERO',\n",
        "                                               13: 'HIDALGO',\n",
        "                                               14: 'JALISCO',\n",
        "                                               15: 'MÉXICO',\n",
        "                                               16: 'MICHOACÁN DE OCAMPO',\n",
        "                                               17: 'MORELOS',\n",
        "                                               18: 'NAYARIT',\n",
        "                                               19: 'NUEVO LEÓN',\n",
        "                                               20: 'OAXACA',\n",
        "                                               21: 'PUEBLA',\n",
        "                                               22: 'QUERÉTARO',\n",
        "                                               23: 'QUINTANA ROO',\n",
        "                                               24: 'SAN LUIS POTOSÍ',\n",
        "                                               25: 'SINALOA',\n",
        "                                               26: 'SONORA',\n",
        "                                               27: 'TABASCO',\n",
        "                                               28: 'TAMAULIPAS',\n",
        "                                               29: 'TLAXCALA',\n",
        "                                               30: 'VERACRUZ DE IGNACIO DE LA LLAVE',\n",
        "                                               31: 'YUCATÁN',\n",
        "                                               32: 'ZACATECAS',\n",
        "                                               36: 'ESTADOS UNIDOS MEXICANOS',\n",
        "                                               97: 'NO APLICA',\n",
        "                                               98:'SE IGNORA',\n",
        "                                               99: 'NO ESPECIFICADO'})"
      ],
      "execution_count": null,
      "outputs": []
    },
    {
      "cell_type": "code",
      "metadata": {
        "colab": {
          "base_uri": "https://localhost:8080/",
          "height": 312
        },
        "id": "VzVbNx1eroiL",
        "outputId": "27c6b3aa-026c-4f54-98d8-e39aa9626ffc"
      },
      "source": [
        "df.head()"
      ],
      "execution_count": 8,
      "outputs": [
        {
          "output_type": "execute_result",
          "data": {
            "text/html": [
              "<div>\n",
              "<style scoped>\n",
              "    .dataframe tbody tr th:only-of-type {\n",
              "        vertical-align: middle;\n",
              "    }\n",
              "\n",
              "    .dataframe tbody tr th {\n",
              "        vertical-align: top;\n",
              "    }\n",
              "\n",
              "    .dataframe thead th {\n",
              "        text-align: right;\n",
              "    }\n",
              "</style>\n",
              "<table border=\"1\" class=\"dataframe\">\n",
              "  <thead>\n",
              "    <tr style=\"text-align: right;\">\n",
              "      <th></th>\n",
              "      <th>FECHA_ACTUALIZACION</th>\n",
              "      <th>ID_REGISTRO</th>\n",
              "      <th>ORIGEN</th>\n",
              "      <th>SECTOR</th>\n",
              "      <th>ENTIDAD_UM</th>\n",
              "      <th>SEXO</th>\n",
              "      <th>ENTIDAD_NAC</th>\n",
              "      <th>ENTIDAD_RES</th>\n",
              "      <th>MUNICIPIO_RES</th>\n",
              "      <th>TIPO_PACIENTE</th>\n",
              "      <th>FECHA_INGRESO</th>\n",
              "      <th>FECHA_SINTOMAS</th>\n",
              "      <th>FECHA_DEF</th>\n",
              "      <th>INTUBADO</th>\n",
              "      <th>NEUMONIA</th>\n",
              "      <th>EDAD</th>\n",
              "      <th>NACIONALIDAD</th>\n",
              "      <th>EMBARAZO</th>\n",
              "      <th>HABLA_LENGUA_INDIG</th>\n",
              "      <th>INDIGENA</th>\n",
              "      <th>DIABETES</th>\n",
              "      <th>EPOC</th>\n",
              "      <th>ASMA</th>\n",
              "      <th>INMUSUPR</th>\n",
              "      <th>HIPERTENSION</th>\n",
              "      <th>OTRA_COM</th>\n",
              "      <th>CARDIOVASCULAR</th>\n",
              "      <th>OBESIDAD</th>\n",
              "      <th>RENAL_CRONICA</th>\n",
              "      <th>TABAQUISMO</th>\n",
              "      <th>OTRO_CASO</th>\n",
              "      <th>TOMA_MUESTRA_LAB</th>\n",
              "      <th>RESULTADO_LAB</th>\n",
              "      <th>TOMA_MUESTRA_ANTIGENO</th>\n",
              "      <th>RESULTADO_ANTIGENO</th>\n",
              "      <th>CLASIFICACION_FINAL</th>\n",
              "      <th>MIGRANTE</th>\n",
              "      <th>PAIS_NACIONALIDAD</th>\n",
              "      <th>PAIS_ORIGEN</th>\n",
              "      <th>UCI</th>\n",
              "    </tr>\n",
              "  </thead>\n",
              "  <tbody>\n",
              "    <tr>\n",
              "      <th>0</th>\n",
              "      <td>2021-11-26</td>\n",
              "      <td>z4e838</td>\n",
              "      <td>1</td>\n",
              "      <td>12</td>\n",
              "      <td>9</td>\n",
              "      <td>HOMBRE</td>\n",
              "      <td>MÉXICO</td>\n",
              "      <td>15</td>\n",
              "      <td>95</td>\n",
              "      <td>2</td>\n",
              "      <td>2020-02-18</td>\n",
              "      <td>2020-02-18</td>\n",
              "      <td>2020-05-11</td>\n",
              "      <td>1</td>\n",
              "      <td>1</td>\n",
              "      <td>60</td>\n",
              "      <td>1</td>\n",
              "      <td>97</td>\n",
              "      <td>2</td>\n",
              "      <td>2</td>\n",
              "      <td>2</td>\n",
              "      <td>2</td>\n",
              "      <td>2</td>\n",
              "      <td>2</td>\n",
              "      <td>2</td>\n",
              "      <td>2</td>\n",
              "      <td>2</td>\n",
              "      <td>2</td>\n",
              "      <td>2</td>\n",
              "      <td>1</td>\n",
              "      <td>99</td>\n",
              "      <td>1</td>\n",
              "      <td>2</td>\n",
              "      <td>2</td>\n",
              "      <td>97</td>\n",
              "      <td>7</td>\n",
              "      <td>99</td>\n",
              "      <td>México</td>\n",
              "      <td>97</td>\n",
              "      <td>2</td>\n",
              "    </tr>\n",
              "    <tr>\n",
              "      <th>1</th>\n",
              "      <td>2021-11-26</td>\n",
              "      <td>z2b144</td>\n",
              "      <td>2</td>\n",
              "      <td>12</td>\n",
              "      <td>9</td>\n",
              "      <td>MUJER</td>\n",
              "      <td>MÉXICO</td>\n",
              "      <td>9</td>\n",
              "      <td>2</td>\n",
              "      <td>1</td>\n",
              "      <td>2020-06-15</td>\n",
              "      <td>2020-06-12</td>\n",
              "      <td>9999-99-99</td>\n",
              "      <td>97</td>\n",
              "      <td>2</td>\n",
              "      <td>13</td>\n",
              "      <td>1</td>\n",
              "      <td>2</td>\n",
              "      <td>99</td>\n",
              "      <td>2</td>\n",
              "      <td>2</td>\n",
              "      <td>2</td>\n",
              "      <td>2</td>\n",
              "      <td>2</td>\n",
              "      <td>2</td>\n",
              "      <td>2</td>\n",
              "      <td>2</td>\n",
              "      <td>2</td>\n",
              "      <td>2</td>\n",
              "      <td>2</td>\n",
              "      <td>1</td>\n",
              "      <td>1</td>\n",
              "      <td>4</td>\n",
              "      <td>2</td>\n",
              "      <td>97</td>\n",
              "      <td>5</td>\n",
              "      <td>99</td>\n",
              "      <td>México</td>\n",
              "      <td>97</td>\n",
              "      <td>97</td>\n",
              "    </tr>\n",
              "    <tr>\n",
              "      <th>2</th>\n",
              "      <td>2021-11-26</td>\n",
              "      <td>zz7202</td>\n",
              "      <td>1</td>\n",
              "      <td>12</td>\n",
              "      <td>16</td>\n",
              "      <td>HOMBRE</td>\n",
              "      <td>MICHOACÁN DE OCAMPO</td>\n",
              "      <td>16</td>\n",
              "      <td>112</td>\n",
              "      <td>1</td>\n",
              "      <td>2021-01-13</td>\n",
              "      <td>2021-01-13</td>\n",
              "      <td>9999-99-99</td>\n",
              "      <td>97</td>\n",
              "      <td>2</td>\n",
              "      <td>41</td>\n",
              "      <td>1</td>\n",
              "      <td>97</td>\n",
              "      <td>2</td>\n",
              "      <td>2</td>\n",
              "      <td>2</td>\n",
              "      <td>2</td>\n",
              "      <td>2</td>\n",
              "      <td>2</td>\n",
              "      <td>2</td>\n",
              "      <td>2</td>\n",
              "      <td>2</td>\n",
              "      <td>2</td>\n",
              "      <td>2</td>\n",
              "      <td>1</td>\n",
              "      <td>1</td>\n",
              "      <td>1</td>\n",
              "      <td>2</td>\n",
              "      <td>2</td>\n",
              "      <td>97</td>\n",
              "      <td>7</td>\n",
              "      <td>99</td>\n",
              "      <td>México</td>\n",
              "      <td>97</td>\n",
              "      <td>97</td>\n",
              "    </tr>\n",
              "    <tr>\n",
              "      <th>3</th>\n",
              "      <td>2021-11-26</td>\n",
              "      <td>z58ed3</td>\n",
              "      <td>2</td>\n",
              "      <td>12</td>\n",
              "      <td>18</td>\n",
              "      <td>MUJER</td>\n",
              "      <td>NAYARIT</td>\n",
              "      <td>18</td>\n",
              "      <td>17</td>\n",
              "      <td>1</td>\n",
              "      <td>2020-07-03</td>\n",
              "      <td>2020-06-30</td>\n",
              "      <td>9999-99-99</td>\n",
              "      <td>97</td>\n",
              "      <td>2</td>\n",
              "      <td>46</td>\n",
              "      <td>1</td>\n",
              "      <td>2</td>\n",
              "      <td>2</td>\n",
              "      <td>2</td>\n",
              "      <td>2</td>\n",
              "      <td>2</td>\n",
              "      <td>2</td>\n",
              "      <td>2</td>\n",
              "      <td>2</td>\n",
              "      <td>2</td>\n",
              "      <td>2</td>\n",
              "      <td>2</td>\n",
              "      <td>2</td>\n",
              "      <td>2</td>\n",
              "      <td>2</td>\n",
              "      <td>1</td>\n",
              "      <td>2</td>\n",
              "      <td>2</td>\n",
              "      <td>97</td>\n",
              "      <td>7</td>\n",
              "      <td>99</td>\n",
              "      <td>México</td>\n",
              "      <td>97</td>\n",
              "      <td>97</td>\n",
              "    </tr>\n",
              "    <tr>\n",
              "      <th>4</th>\n",
              "      <td>2021-11-26</td>\n",
              "      <td>z3be8c</td>\n",
              "      <td>2</td>\n",
              "      <td>12</td>\n",
              "      <td>7</td>\n",
              "      <td>MUJER</td>\n",
              "      <td>CHIAPAS</td>\n",
              "      <td>7</td>\n",
              "      <td>101</td>\n",
              "      <td>1</td>\n",
              "      <td>2020-08-18</td>\n",
              "      <td>2020-08-14</td>\n",
              "      <td>9999-99-99</td>\n",
              "      <td>97</td>\n",
              "      <td>2</td>\n",
              "      <td>40</td>\n",
              "      <td>1</td>\n",
              "      <td>2</td>\n",
              "      <td>2</td>\n",
              "      <td>2</td>\n",
              "      <td>2</td>\n",
              "      <td>2</td>\n",
              "      <td>2</td>\n",
              "      <td>2</td>\n",
              "      <td>2</td>\n",
              "      <td>2</td>\n",
              "      <td>2</td>\n",
              "      <td>2</td>\n",
              "      <td>2</td>\n",
              "      <td>2</td>\n",
              "      <td>2</td>\n",
              "      <td>1</td>\n",
              "      <td>2</td>\n",
              "      <td>2</td>\n",
              "      <td>97</td>\n",
              "      <td>7</td>\n",
              "      <td>99</td>\n",
              "      <td>México</td>\n",
              "      <td>97</td>\n",
              "      <td>97</td>\n",
              "    </tr>\n",
              "  </tbody>\n",
              "</table>\n",
              "</div>"
            ],
            "text/plain": [
              "  FECHA_ACTUALIZACION ID_REGISTRO  ORIGEN  ...  PAIS_NACIONALIDAD  PAIS_ORIGEN UCI\n",
              "0          2021-11-26      z4e838       1  ...             México           97   2\n",
              "1          2021-11-26      z2b144       2  ...             México           97  97\n",
              "2          2021-11-26      zz7202       1  ...             México           97  97\n",
              "3          2021-11-26      z58ed3       2  ...             México           97  97\n",
              "4          2021-11-26      z3be8c       2  ...             México           97  97\n",
              "\n",
              "[5 rows x 40 columns]"
            ]
          },
          "metadata": {},
          "execution_count": 8
        }
      ]
    },
    {
      "cell_type": "code",
      "metadata": {
        "id": "wGz14nttrtyr"
      },
      "source": [
        ""
      ],
      "execution_count": 13,
      "outputs": []
    }
  ]
}