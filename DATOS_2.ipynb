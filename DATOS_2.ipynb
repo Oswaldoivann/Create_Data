{
  "nbformat": 4,
  "nbformat_minor": 0,
  "metadata": {
    "colab": {
      "name": "DATOS_1.ipynb",
      "provenance": [],
      "authorship_tag": "ABX9TyOh2NxApDRgLGTBN5oR9KjX",
      "include_colab_link": true
    },
    "kernelspec": {
      "name": "python3",
      "display_name": "Python 3"
    },
    "language_info": {
      "name": "python"
    }
  },
  "cells": [
    {
      "cell_type": "markdown",
      "metadata": {
        "id": "view-in-github",
        "colab_type": "text"
      },
      "source": [
        "<a href=\"https://colab.research.google.com/github/Oswaldoivann/Procesamiento-de-Datos/blob/main/DATOS_2.ipynb\" target=\"_parent\"><img src=\"https://colab.research.google.com/assets/colab-badge.svg\" alt=\"Open In Colab\"/></a>"
      ]
    },
    {
      "cell_type": "markdown",
      "metadata": {
        "id": "YQ0qEOklGKbN"
      },
      "source": [
        "# Analisis de Datos\n"
      ]
    },
    {
      "cell_type": "code",
      "metadata": {
        "id": "ElHttgMfHbNX"
      },
      "source": [
        "import pandas as pd\n",
        "import numpy as np\n",
        "import itertools\n",
        "import random\n",
        "import matplotlib.pyplot as plt\n",
        "import seaborn as sns"
      ],
      "execution_count": null,
      "outputs": []
    },
    {
      "cell_type": "markdown",
      "metadata": {
        "id": "4P_gFrS8cyx7"
      },
      "source": [
        "## Creacion de Datos (2): \n"
      ]
    },
    {
      "cell_type": "code",
      "metadata": {
        "id": "-HDwitdjc4cf"
      },
      "source": [
        "# Creamos la primer columna, 'Genero' utilizando los parametros del cuadro 1\n",
        "genero = []\n",
        "num = 501\n",
        "for x in itertools.repeat('Hombre', num):\n",
        "  genero.append(x)\n",
        "num = 500\n",
        "for x in itertools.repeat('Mujer', num):\n",
        "  genero.append(x)"
      ],
      "execution_count": null,
      "outputs": []
    },
    {
      "cell_type": "code",
      "metadata": {
        "id": "rOMi7S7xc4cf"
      },
      "source": [
        "# Creamos la segunda columna, 'Edad' utilizando los mismos parametros\n",
        "edad = []\n",
        "num = 340\n",
        "for x in itertools.repeat(1,num):\n",
        "  edad.append(x)\n",
        "num = 335\n",
        "for x in itertools.repeat(2, num):\n",
        "  edad.append(x)\n",
        "num = 326\n",
        "for x in itertools.repeat(3, num):\n",
        "  edad.append(x)"
      ],
      "execution_count": null,
      "outputs": []
    },
    {
      "cell_type": "code",
      "metadata": {
        "id": "FFK6KyPsc4cg"
      },
      "source": [
        "# Creamos la tercera columna, 'Nivel Educativo' utilizando los mismos parametros\n",
        "educacion = []\n",
        "for x in itertools.repeat(1, 2):\n",
        "  educacion.append(x)\n",
        "for x in itertools.repeat(2, 102):\n",
        "  educacion.append(x)\n",
        "for x in itertools.repeat(3, 145):\n",
        "  educacion.append(x)\n",
        "for x in itertools.repeat(4, 544):\n",
        "  educacion.append(x)\n",
        "for x in itertools.repeat(5, 208):\n",
        "  educacion.append(x)"
      ],
      "execution_count": null,
      "outputs": []
    },
    {
      "cell_type": "code",
      "metadata": {
        "id": "3fL_PeBKc4cg"
      },
      "source": [
        "# Creamos la cuarta columna, 'Nivel Ingresos' utilizando los mismos parametros\n",
        "ingresos = []\n",
        "for x in itertools.repeat('Alto', 331):\n",
        "  ingresos.append(x)\n",
        "for x in itertools.repeat('Medio', 330):\n",
        "  ingresos.append(x)\n",
        "for x in itertools.repeat('Bajo', 340):\n",
        "  ingresos.append(x)"
      ],
      "execution_count": null,
      "outputs": []
    },
    {
      "cell_type": "code",
      "metadata": {
        "id": "4LlkwlKGc4ch"
      },
      "source": [
        "# Creamos la quinta columna, 'Responsable de las compras del hogar' utilizando los mismos parametros\n",
        "responsable = []\n",
        "for x in itertools.repeat('1', 819):\n",
        "  responsable.append(x)\n",
        "for x in itertools.repeat('2', 34):\n",
        "  responsable.append(x)\n",
        "for x in itertools.repeat('3', 148):\n",
        "  responsable.append(x)  "
      ],
      "execution_count": null,
      "outputs": []
    },
    {
      "cell_type": "code",
      "metadata": {
        "id": "MRgdFNDFc4ch"
      },
      "source": [
        "# Creamos la sexta columna, 'Como consideras tu alimentación' utilizando los mismos parametros\n",
        "nutricion = []\n",
        "for x in itertools.repeat('1', 16):\n",
        "  nutricion.append(x)\n",
        "for x in itertools.repeat('2', 274):\n",
        "  nutricion.append(x)\n",
        "for x in itertools.repeat('3', 547):\n",
        "  nutricion.append(x)\n",
        "for x in itertools.repeat('4', 164):\n",
        "  nutricion.append(x)\n",
        "  "
      ],
      "execution_count": null,
      "outputs": []
    },
    {
      "cell_type": "code",
      "metadata": {
        "id": "9EyyziD3c4ci"
      },
      "source": [
        "# Creamos la septima columna, 'Como consideras tus conocimientos  nutricion' utilizando los mismos parametros\n",
        "sabesnutricion = []\n",
        "for x in itertools.repeat(1, 14):\n",
        "  sabesnutricion.append(x)\n",
        "for x in itertools.repeat(2, 289):\n",
        "  sabesnutricion.append(x)\n",
        "for x in itertools.repeat(3, 554):\n",
        "  sabesnutricion.append(x)\n",
        "for x in itertools.repeat(4, 144):\n",
        "  sabesnutricion.append(x)"
      ],
      "execution_count": null,
      "outputs": []
    },
    {
      "cell_type": "code",
      "metadata": {
        "id": "GraBEAv6c4cj"
      },
      "source": [
        "#Utilizamos esta función, para ordenar de forma aleatoria los datos creados, para una mejor consistencia.\n",
        "\n",
        "def mezclar_lista(lista_original):\n",
        "    # https://parzibyte.me/blog/2020/05/31/python-clonar-lista-eliminar-referencia/\n",
        "    lista = lista_original[:]\n",
        "    # Ciclo for desde 0 hasta la longitud de la lista -1\n",
        "    longitud_lista = len(lista)\n",
        "    for i in range(longitud_lista):\n",
        "\n",
        "        # Obtener un índice aleatorio\n",
        "        # https://parzibyte.me/blog/2019/04/04/generar-numero-aleatorio-rango-python/\n",
        "        indice_aleatorio = random.randint(0, longitud_lista - 1)\n",
        "\n",
        "        # Intercambiar\n",
        "        temporal = lista[i]\n",
        "        lista[i] = lista[indice_aleatorio]\n",
        "        lista[indice_aleatorio] = temporal\n",
        "\n",
        "    # Regresarla\n",
        "    return lista"
      ],
      "execution_count": null,
      "outputs": []
    },
    {
      "cell_type": "code",
      "metadata": {
        "id": "aKlNQXePc4cj"
      },
      "source": [
        "#Guardamos nuestras listas organizadas aleatoriamente en nuevas variables\n",
        "Genero_n = mezclar_lista(genero);\n",
        "Edad_n = mezclar_lista(edad);\n",
        "Educacion_n = mezclar_lista(educacion);\n",
        "Ingresos_n = mezclar_lista(ingresos);\n",
        "Responsable_n = mezclar_lista(responsable);\n",
        "Nutricion_n = mezclar_lista(nutricion);\n",
        "Sabes_n = mezclar_lista(sabesnutricion)"
      ],
      "execution_count": null,
      "outputs": []
    },
    {
      "cell_type": "code",
      "metadata": {
        "colab": {
          "base_uri": "https://localhost:8080/"
        },
        "id": "CoUvEXvjc4ck",
        "outputId": "915c34b6-224b-40a6-c9fb-8a7d44167fae"
      },
      "source": [
        "#Unimos nuestras listas para crear nuestra base de datos\n",
        "df_listas_n = []\n",
        "df_listas_n.append(Genero_n)\n",
        "df_listas_n.append(Edad_n)\n",
        "df_listas_n.append(Educacion_n)\n",
        "df_listas_n.append(Ingresos_n)\n",
        "df_listas_n.append(Responsable_n)\n",
        "df_listas_n.append(Nutricion_n)\n",
        "df_listas_n.append(Sabes_n)\n",
        "print(df_listas_n)"
      ],
      "execution_count": null,
      "outputs": [
        {
          "output_type": "stream",
          "name": "stdout",
          "text": [
            "[['Mujer', 'Hombre', 'Mujer', 'Hombre', 'Hombre', 'Hombre', 'Mujer', 'Mujer', 'Hombre', 'Mujer', 'Mujer', 'Hombre', 'Mujer', 'Hombre', 'Hombre', 'Mujer', 'Hombre', 'Mujer', 'Mujer', 'Hombre', 'Hombre', 'Hombre', 'Hombre', 'Hombre', 'Hombre', 'Mujer', 'Mujer', 'Hombre', 'Hombre', 'Hombre', 'Mujer', 'Mujer', 'Hombre', 'Mujer', 'Hombre', 'Hombre', 'Hombre', 'Hombre', 'Hombre', 'Hombre', 'Mujer', 'Mujer', 'Hombre', 'Hombre', 'Mujer', 'Hombre', 'Mujer', 'Hombre', 'Hombre', 'Mujer', 'Mujer', 'Mujer', 'Mujer', 'Mujer', 'Mujer', 'Hombre', 'Hombre', 'Mujer', 'Mujer', 'Hombre', 'Mujer', 'Mujer', 'Hombre', 'Mujer', 'Hombre', 'Mujer', 'Hombre', 'Hombre', 'Mujer', 'Hombre', 'Mujer', 'Hombre', 'Hombre', 'Mujer', 'Hombre', 'Mujer', 'Mujer', 'Hombre', 'Hombre', 'Hombre', 'Mujer', 'Mujer', 'Hombre', 'Mujer', 'Hombre', 'Hombre', 'Mujer', 'Mujer', 'Mujer', 'Hombre', 'Mujer', 'Mujer', 'Hombre', 'Mujer', 'Hombre', 'Hombre', 'Mujer', 'Hombre', 'Mujer', 'Hombre', 'Hombre', 'Mujer', 'Hombre', 'Hombre', 'Hombre', 'Hombre', 'Hombre', 'Hombre', 'Mujer', 'Mujer', 'Mujer', 'Mujer', 'Mujer', 'Hombre', 'Hombre', 'Mujer', 'Hombre', 'Hombre', 'Mujer', 'Hombre', 'Hombre', 'Mujer', 'Hombre', 'Mujer', 'Mujer', 'Hombre', 'Hombre', 'Mujer', 'Hombre', 'Mujer', 'Hombre', 'Hombre', 'Mujer', 'Hombre', 'Hombre', 'Hombre', 'Hombre', 'Hombre', 'Mujer', 'Hombre', 'Hombre', 'Hombre', 'Hombre', 'Hombre', 'Mujer', 'Hombre', 'Hombre', 'Hombre', 'Hombre', 'Hombre', 'Hombre', 'Hombre', 'Hombre', 'Mujer', 'Hombre', 'Mujer', 'Mujer', 'Hombre', 'Hombre', 'Mujer', 'Hombre', 'Mujer', 'Mujer', 'Mujer', 'Mujer', 'Hombre', 'Mujer', 'Hombre', 'Hombre', 'Mujer', 'Hombre', 'Mujer', 'Hombre', 'Mujer', 'Mujer', 'Hombre', 'Hombre', 'Hombre', 'Hombre', 'Mujer', 'Mujer', 'Mujer', 'Hombre', 'Hombre', 'Hombre', 'Hombre', 'Mujer', 'Mujer', 'Mujer', 'Mujer', 'Hombre', 'Hombre', 'Hombre', 'Hombre', 'Hombre', 'Hombre', 'Hombre', 'Hombre', 'Hombre', 'Mujer', 'Mujer', 'Hombre', 'Hombre', 'Mujer', 'Mujer', 'Mujer', 'Hombre', 'Mujer', 'Mujer', 'Mujer', 'Hombre', 'Mujer', 'Mujer', 'Hombre', 'Hombre', 'Mujer', 'Mujer', 'Hombre', 'Hombre', 'Hombre', 'Mujer', 'Hombre', 'Hombre', 'Mujer', 'Hombre', 'Hombre', 'Mujer', 'Mujer', 'Mujer', 'Mujer', 'Mujer', 'Hombre', 'Hombre', 'Hombre', 'Mujer', 'Hombre', 'Mujer', 'Hombre', 'Mujer', 'Hombre', 'Hombre', 'Hombre', 'Hombre', 'Hombre', 'Mujer', 'Hombre', 'Mujer', 'Mujer', 'Mujer', 'Mujer', 'Mujer', 'Hombre', 'Hombre', 'Mujer', 'Hombre', 'Mujer', 'Mujer', 'Hombre', 'Mujer', 'Mujer', 'Hombre', 'Mujer', 'Hombre', 'Mujer', 'Hombre', 'Hombre', 'Hombre', 'Hombre', 'Hombre', 'Mujer', 'Mujer', 'Mujer', 'Hombre', 'Mujer', 'Hombre', 'Mujer', 'Hombre', 'Mujer', 'Mujer', 'Mujer', 'Mujer', 'Mujer', 'Mujer', 'Hombre', 'Hombre', 'Hombre', 'Mujer', 'Hombre', 'Hombre', 'Hombre', 'Hombre', 'Hombre', 'Hombre', 'Mujer', 'Hombre', 'Mujer', 'Hombre', 'Mujer', 'Hombre', 'Mujer', 'Hombre', 'Mujer', 'Mujer', 'Mujer', 'Hombre', 'Hombre', 'Hombre', 'Hombre', 'Hombre', 'Hombre', 'Hombre', 'Hombre', 'Mujer', 'Hombre', 'Hombre', 'Hombre', 'Mujer', 'Mujer', 'Mujer', 'Mujer', 'Hombre', 'Hombre', 'Mujer', 'Hombre', 'Hombre', 'Mujer', 'Mujer', 'Mujer', 'Hombre', 'Mujer', 'Mujer', 'Mujer', 'Hombre', 'Hombre', 'Mujer', 'Hombre', 'Mujer', 'Mujer', 'Hombre', 'Hombre', 'Hombre', 'Mujer', 'Mujer', 'Hombre', 'Hombre', 'Mujer', 'Hombre', 'Mujer', 'Mujer', 'Hombre', 'Hombre', 'Mujer', 'Hombre', 'Hombre', 'Mujer', 'Mujer', 'Hombre', 'Hombre', 'Hombre', 'Mujer', 'Mujer', 'Hombre', 'Hombre', 'Hombre', 'Hombre', 'Mujer', 'Hombre', 'Hombre', 'Hombre', 'Mujer', 'Mujer', 'Hombre', 'Mujer', 'Mujer', 'Hombre', 'Mujer', 'Mujer', 'Hombre', 'Hombre', 'Hombre', 'Mujer', 'Mujer', 'Mujer', 'Hombre', 'Mujer', 'Mujer', 'Hombre', 'Mujer', 'Hombre', 'Hombre', 'Mujer', 'Mujer', 'Hombre', 'Mujer', 'Mujer', 'Hombre', 'Mujer', 'Hombre', 'Mujer', 'Hombre', 'Hombre', 'Hombre', 'Mujer', 'Hombre', 'Mujer', 'Hombre', 'Hombre', 'Mujer', 'Hombre', 'Mujer', 'Mujer', 'Mujer', 'Hombre', 'Hombre', 'Mujer', 'Hombre', 'Hombre', 'Hombre', 'Hombre', 'Mujer', 'Mujer', 'Mujer', 'Hombre', 'Mujer', 'Mujer', 'Hombre', 'Hombre', 'Mujer', 'Hombre', 'Hombre', 'Mujer', 'Hombre', 'Mujer', 'Hombre', 'Mujer', 'Mujer', 'Mujer', 'Hombre', 'Hombre', 'Mujer', 'Hombre', 'Hombre', 'Mujer', 'Mujer', 'Mujer', 'Mujer', 'Hombre', 'Hombre', 'Mujer', 'Mujer', 'Mujer', 'Mujer', 'Hombre', 'Mujer', 'Mujer', 'Hombre', 'Hombre', 'Mujer', 'Hombre', 'Hombre', 'Hombre', 'Mujer', 'Hombre', 'Hombre', 'Hombre', 'Mujer', 'Mujer', 'Hombre', 'Hombre', 'Hombre', 'Mujer', 'Mujer', 'Mujer', 'Mujer', 'Hombre', 'Mujer', 'Hombre', 'Mujer', 'Hombre', 'Mujer', 'Mujer', 'Mujer', 'Hombre', 'Mujer', 'Mujer', 'Mujer', 'Hombre', 'Mujer', 'Hombre', 'Hombre', 'Mujer', 'Mujer', 'Hombre', 'Mujer', 'Hombre', 'Hombre', 'Hombre', 'Hombre', 'Hombre', 'Mujer', 'Mujer', 'Mujer', 'Mujer', 'Hombre', 'Hombre', 'Hombre', 'Hombre', 'Hombre', 'Mujer', 'Hombre', 'Hombre', 'Mujer', 'Mujer', 'Hombre', 'Mujer', 'Mujer', 'Hombre', 'Hombre', 'Hombre', 'Hombre', 'Hombre', 'Hombre', 'Mujer', 'Mujer', 'Mujer', 'Hombre', 'Mujer', 'Mujer', 'Mujer', 'Hombre', 'Mujer', 'Hombre', 'Hombre', 'Mujer', 'Mujer', 'Hombre', 'Hombre', 'Mujer', 'Mujer', 'Mujer', 'Hombre', 'Hombre', 'Mujer', 'Mujer', 'Hombre', 'Mujer', 'Mujer', 'Mujer', 'Mujer', 'Mujer', 'Mujer', 'Mujer', 'Hombre', 'Mujer', 'Mujer', 'Mujer', 'Mujer', 'Hombre', 'Hombre', 'Hombre', 'Hombre', 'Hombre', 'Hombre', 'Mujer', 'Mujer', 'Mujer', 'Hombre', 'Mujer', 'Hombre', 'Mujer', 'Hombre', 'Mujer', 'Mujer', 'Mujer', 'Mujer', 'Mujer', 'Mujer', 'Mujer', 'Mujer', 'Hombre', 'Mujer', 'Mujer', 'Mujer', 'Hombre', 'Mujer', 'Hombre', 'Hombre', 'Hombre', 'Hombre', 'Mujer', 'Mujer', 'Mujer', 'Mujer', 'Hombre', 'Mujer', 'Mujer', 'Hombre', 'Mujer', 'Hombre', 'Mujer', 'Hombre', 'Hombre', 'Mujer', 'Hombre', 'Hombre', 'Mujer', 'Hombre', 'Mujer', 'Hombre', 'Mujer', 'Mujer', 'Mujer', 'Hombre', 'Hombre', 'Mujer', 'Mujer', 'Hombre', 'Mujer', 'Mujer', 'Mujer', 'Mujer', 'Mujer', 'Hombre', 'Hombre', 'Mujer', 'Hombre', 'Mujer', 'Hombre', 'Mujer', 'Hombre', 'Mujer', 'Mujer', 'Hombre', 'Hombre', 'Mujer', 'Mujer', 'Hombre', 'Mujer', 'Mujer', 'Mujer', 'Mujer', 'Hombre', 'Hombre', 'Hombre', 'Hombre', 'Mujer', 'Mujer', 'Hombre', 'Mujer', 'Mujer', 'Mujer', 'Hombre', 'Hombre', 'Mujer', 'Mujer', 'Mujer', 'Mujer', 'Mujer', 'Hombre', 'Hombre', 'Hombre', 'Mujer', 'Mujer', 'Hombre', 'Hombre', 'Hombre', 'Hombre', 'Mujer', 'Mujer', 'Mujer', 'Hombre', 'Mujer', 'Hombre', 'Hombre', 'Hombre', 'Hombre', 'Mujer', 'Mujer', 'Hombre', 'Hombre', 'Mujer', 'Mujer', 'Hombre', 'Hombre', 'Mujer', 'Hombre', 'Mujer', 'Hombre', 'Hombre', 'Mujer', 'Hombre', 'Hombre', 'Mujer', 'Hombre', 'Mujer', 'Hombre', 'Hombre', 'Mujer', 'Mujer', 'Mujer', 'Hombre', 'Mujer', 'Mujer', 'Hombre', 'Mujer', 'Hombre', 'Hombre', 'Hombre', 'Mujer', 'Hombre', 'Mujer', 'Mujer', 'Mujer', 'Mujer', 'Mujer', 'Hombre', 'Hombre', 'Hombre', 'Hombre', 'Mujer', 'Hombre', 'Mujer', 'Mujer', 'Hombre', 'Mujer', 'Mujer', 'Hombre', 'Mujer', 'Hombre', 'Hombre', 'Mujer', 'Mujer', 'Hombre', 'Mujer', 'Hombre', 'Hombre', 'Hombre', 'Mujer', 'Mujer', 'Mujer', 'Hombre', 'Hombre', 'Mujer', 'Hombre', 'Mujer', 'Mujer', 'Mujer', 'Hombre', 'Hombre', 'Mujer', 'Hombre', 'Hombre', 'Mujer', 'Hombre', 'Hombre', 'Mujer', 'Mujer', 'Mujer', 'Mujer', 'Hombre', 'Mujer', 'Mujer', 'Mujer', 'Mujer', 'Mujer', 'Mujer', 'Hombre', 'Hombre', 'Hombre', 'Hombre', 'Mujer', 'Hombre', 'Hombre', 'Mujer', 'Mujer', 'Hombre', 'Mujer', 'Hombre', 'Mujer', 'Mujer', 'Hombre', 'Mujer', 'Mujer', 'Mujer', 'Hombre', 'Hombre', 'Hombre', 'Mujer', 'Hombre', 'Mujer', 'Hombre', 'Mujer', 'Mujer', 'Hombre', 'Mujer', 'Mujer', 'Mujer', 'Hombre', 'Mujer', 'Mujer', 'Mujer', 'Mujer', 'Hombre', 'Mujer', 'Hombre', 'Mujer', 'Hombre', 'Mujer', 'Mujer', 'Hombre', 'Hombre', 'Mujer', 'Mujer', 'Mujer', 'Hombre', 'Hombre', 'Mujer', 'Mujer', 'Hombre', 'Mujer', 'Hombre', 'Mujer', 'Hombre', 'Hombre', 'Mujer', 'Mujer', 'Hombre', 'Hombre', 'Mujer', 'Hombre', 'Mujer', 'Hombre', 'Hombre', 'Mujer', 'Hombre', 'Hombre', 'Hombre', 'Hombre', 'Hombre', 'Mujer', 'Mujer', 'Mujer', 'Mujer', 'Hombre', 'Mujer', 'Mujer', 'Hombre', 'Mujer', 'Mujer', 'Mujer', 'Mujer', 'Mujer', 'Mujer', 'Hombre', 'Hombre', 'Hombre', 'Hombre', 'Hombre', 'Mujer', 'Mujer', 'Hombre', 'Mujer', 'Mujer', 'Mujer', 'Hombre', 'Mujer', 'Mujer', 'Mujer', 'Mujer', 'Mujer', 'Hombre', 'Hombre', 'Mujer', 'Mujer', 'Hombre', 'Hombre', 'Hombre', 'Mujer', 'Hombre', 'Hombre', 'Mujer', 'Hombre', 'Mujer', 'Hombre', 'Hombre', 'Mujer', 'Mujer', 'Hombre', 'Mujer', 'Hombre', 'Mujer', 'Mujer', 'Mujer', 'Mujer', 'Mujer', 'Hombre', 'Hombre', 'Hombre', 'Mujer', 'Mujer', 'Hombre', 'Hombre', 'Mujer', 'Hombre', 'Hombre', 'Hombre', 'Mujer', 'Mujer', 'Mujer', 'Mujer', 'Hombre', 'Mujer', 'Hombre', 'Hombre', 'Hombre', 'Mujer', 'Mujer', 'Hombre', 'Mujer', 'Mujer', 'Hombre', 'Hombre', 'Hombre', 'Hombre', 'Hombre', 'Hombre', 'Hombre', 'Hombre', 'Hombre', 'Mujer', 'Hombre', 'Mujer', 'Hombre', 'Mujer', 'Mujer', 'Hombre', 'Hombre', 'Mujer', 'Hombre', 'Hombre', 'Mujer', 'Hombre', 'Hombre', 'Mujer', 'Mujer', 'Mujer', 'Hombre', 'Hombre', 'Mujer', 'Mujer', 'Hombre', 'Mujer', 'Hombre', 'Mujer', 'Hombre', 'Mujer', 'Hombre', 'Hombre', 'Mujer', 'Mujer', 'Mujer', 'Mujer', 'Hombre', 'Mujer', 'Mujer', 'Mujer', 'Mujer', 'Hombre', 'Mujer', 'Hombre', 'Hombre', 'Hombre', 'Mujer', 'Mujer', 'Mujer', 'Mujer', 'Hombre', 'Mujer', 'Mujer', 'Hombre', 'Mujer', 'Mujer', 'Hombre', 'Hombre', 'Mujer', 'Mujer', 'Mujer', 'Mujer', 'Hombre', 'Mujer', 'Mujer', 'Hombre', 'Hombre', 'Hombre', 'Mujer', 'Hombre', 'Mujer', 'Hombre', 'Hombre', 'Hombre', 'Hombre'], [1, 1, 2, 1, 1, 2, 3, 2, 1, 3, 2, 3, 2, 2, 1, 1, 1, 2, 3, 2, 1, 1, 2, 1, 3, 2, 1, 2, 2, 1, 1, 1, 1, 1, 1, 3, 2, 2, 3, 3, 2, 2, 2, 3, 2, 2, 2, 2, 3, 2, 2, 1, 1, 3, 1, 3, 3, 1, 2, 3, 3, 3, 3, 1, 1, 2, 1, 3, 1, 2, 3, 2, 2, 3, 3, 1, 2, 3, 1, 1, 3, 1, 1, 2, 3, 2, 1, 3, 1, 2, 1, 2, 1, 1, 2, 3, 2, 1, 1, 2, 3, 3, 2, 3, 1, 3, 3, 1, 3, 3, 3, 1, 2, 3, 1, 1, 3, 2, 1, 1, 2, 2, 2, 1, 3, 1, 2, 3, 1, 2, 2, 2, 1, 2, 1, 2, 3, 3, 3, 3, 3, 1, 3, 2, 3, 1, 2, 2, 1, 1, 2, 2, 3, 1, 2, 3, 2, 3, 2, 3, 1, 1, 2, 2, 2, 2, 1, 3, 3, 2, 3, 1, 2, 1, 3, 1, 1, 3, 1, 3, 1, 3, 1, 3, 3, 1, 2, 3, 2, 3, 3, 1, 2, 2, 2, 2, 3, 3, 1, 3, 1, 1, 2, 2, 3, 2, 1, 1, 3, 3, 1, 1, 2, 3, 3, 3, 1, 2, 1, 2, 2, 2, 2, 3, 1, 2, 2, 3, 2, 3, 3, 1, 2, 2, 1, 1, 1, 3, 2, 2, 1, 3, 3, 3, 1, 2, 1, 2, 2, 3, 2, 1, 2, 3, 2, 2, 3, 2, 3, 2, 3, 2, 1, 3, 1, 1, 2, 1, 2, 2, 3, 1, 2, 2, 2, 1, 2, 1, 1, 2, 3, 1, 2, 1, 3, 1, 2, 3, 2, 3, 2, 3, 1, 1, 1, 1, 3, 1, 1, 2, 1, 1, 2, 1, 1, 1, 1, 3, 1, 2, 1, 3, 1, 1, 2, 2, 2, 1, 2, 1, 1, 3, 3, 3, 2, 2, 2, 2, 1, 2, 1, 1, 3, 1, 2, 3, 2, 1, 2, 3, 3, 1, 2, 1, 2, 1, 2, 1, 2, 1, 3, 3, 3, 3, 2, 2, 2, 1, 1, 1, 3, 1, 1, 3, 3, 2, 3, 1, 3, 3, 1, 1, 2, 2, 3, 1, 1, 3, 1, 1, 2, 1, 3, 2, 3, 1, 2, 3, 1, 2, 2, 2, 3, 2, 2, 1, 2, 2, 3, 1, 2, 1, 2, 3, 3, 2, 3, 3, 2, 1, 3, 2, 2, 3, 3, 3, 2, 3, 1, 3, 2, 3, 2, 3, 3, 2, 1, 1, 1, 3, 1, 1, 3, 1, 1, 1, 1, 2, 3, 3, 2, 3, 2, 1, 2, 2, 3, 1, 2, 3, 1, 1, 1, 1, 2, 3, 3, 1, 3, 1, 3, 1, 1, 3, 1, 1, 2, 2, 1, 1, 3, 2, 2, 3, 3, 3, 3, 1, 3, 1, 3, 1, 2, 3, 1, 2, 2, 1, 2, 3, 3, 2, 2, 3, 2, 3, 2, 3, 2, 3, 3, 2, 3, 2, 1, 2, 3, 1, 3, 1, 3, 3, 2, 1, 3, 2, 2, 2, 2, 1, 2, 1, 2, 3, 2, 3, 2, 3, 2, 3, 1, 3, 2, 2, 3, 3, 2, 3, 3, 3, 1, 3, 3, 1, 3, 2, 1, 3, 1, 3, 1, 2, 1, 2, 2, 2, 2, 3, 2, 1, 2, 3, 2, 2, 1, 1, 2, 3, 2, 3, 1, 1, 2, 3, 2, 1, 1, 2, 2, 1, 3, 1, 1, 3, 2, 1, 2, 1, 3, 3, 2, 3, 2, 1, 2, 1, 1, 1, 1, 1, 1, 3, 3, 1, 1, 1, 3, 2, 2, 1, 3, 3, 3, 2, 3, 3, 2, 2, 3, 1, 3, 2, 1, 3, 3, 2, 3, 2, 1, 3, 1, 1, 2, 1, 2, 2, 1, 2, 2, 1, 3, 3, 3, 1, 2, 3, 2, 1, 3, 1, 1, 3, 1, 2, 3, 2, 3, 3, 2, 2, 1, 3, 1, 1, 2, 2, 1, 2, 2, 1, 3, 1, 1, 2, 1, 2, 3, 1, 2, 1, 3, 2, 1, 3, 2, 3, 3, 3, 2, 1, 2, 3, 3, 2, 2, 1, 1, 3, 2, 2, 3, 2, 1, 3, 3, 2, 1, 1, 3, 1, 3, 2, 3, 1, 3, 3, 2, 1, 1, 3, 3, 2, 3, 3, 1, 1, 1, 1, 2, 3, 1, 1, 1, 1, 3, 3, 2, 2, 1, 2, 3, 2, 2, 2, 1, 3, 1, 1, 2, 3, 2, 2, 3, 2, 2, 1, 1, 1, 1, 3, 3, 1, 3, 1, 1, 3, 3, 2, 3, 3, 3, 3, 1, 3, 1, 3, 2, 1, 2, 1, 2, 3, 1, 3, 2, 3, 3, 1, 1, 2, 3, 2, 3, 2, 2, 2, 1, 2, 3, 3, 1, 1, 3, 2, 3, 3, 1, 1, 2, 1, 3, 2, 1, 2, 2, 2, 2, 1, 1, 3, 1, 3, 3, 3, 2, 1, 3, 1, 2, 3, 2, 1, 3, 3, 3, 3, 1, 1, 1, 3, 3, 1, 1, 3, 1, 2, 2, 2, 3, 1, 1, 3, 1, 3, 1, 1, 2, 2, 3, 1, 3, 3, 1, 3, 3, 1, 1, 3, 3, 1, 2, 2, 2, 1, 1, 1, 2, 1, 3, 2, 3, 3, 3, 3, 2, 3, 2, 1, 3, 3, 1, 3, 2, 3, 2, 1, 2, 1, 2, 1, 2, 1, 3, 1, 3, 2, 3, 2, 2, 1, 3, 1, 1, 1, 3, 3, 1, 1, 2, 3, 1, 3, 2, 2, 2, 2, 1, 1, 2, 2, 3, 3, 1, 3, 3, 1, 2, 1, 3, 2, 2, 1, 1, 2, 2, 1, 3, 3, 2, 2, 2, 1, 2, 3, 2, 1, 1, 1, 2, 1, 2, 3, 1, 3, 3, 2, 3, 3, 2, 1, 3, 2, 2, 3, 3, 1, 1, 1, 2, 3, 1, 1, 2, 2, 2, 2, 1, 2, 1, 2, 3, 2, 3, 1, 3, 3, 2, 2, 1, 2, 2], [5, 5, 4, 3, 3, 4, 3, 4, 2, 5, 3, 4, 3, 3, 4, 5, 5, 4, 3, 5, 4, 3, 3, 3, 4, 3, 2, 4, 2, 5, 4, 4, 4, 4, 5, 4, 3, 5, 4, 3, 4, 4, 3, 3, 4, 2, 5, 4, 4, 5, 4, 4, 4, 4, 5, 4, 3, 4, 3, 3, 2, 4, 2, 4, 2, 4, 4, 3, 2, 5, 5, 4, 2, 4, 2, 3, 4, 4, 3, 4, 4, 5, 4, 4, 4, 3, 5, 3, 4, 4, 4, 4, 4, 4, 4, 5, 3, 4, 5, 5, 3, 4, 5, 4, 2, 4, 3, 5, 4, 5, 2, 5, 2, 4, 3, 3, 3, 2, 4, 3, 5, 4, 4, 5, 4, 1, 4, 3, 4, 4, 4, 4, 4, 3, 5, 4, 4, 5, 3, 4, 5, 3, 4, 4, 4, 3, 4, 4, 4, 4, 2, 4, 5, 4, 4, 3, 5, 4, 2, 4, 4, 5, 4, 2, 4, 4, 2, 4, 4, 5, 4, 5, 2, 4, 4, 4, 4, 2, 5, 4, 4, 3, 4, 4, 4, 5, 4, 4, 3, 4, 2, 4, 4, 4, 3, 3, 5, 3, 5, 4, 4, 5, 4, 3, 4, 5, 4, 4, 2, 5, 2, 4, 5, 4, 4, 4, 4, 5, 4, 4, 4, 5, 5, 2, 4, 5, 3, 4, 4, 5, 5, 4, 4, 4, 4, 4, 4, 4, 4, 2, 5, 4, 5, 5, 4, 4, 4, 3, 3, 2, 2, 4, 5, 1, 4, 5, 4, 3, 2, 3, 4, 3, 5, 3, 5, 5, 4, 4, 3, 5, 4, 4, 3, 4, 5, 5, 4, 2, 4, 4, 4, 3, 4, 4, 4, 4, 3, 3, 4, 4, 4, 4, 4, 3, 5, 4, 4, 4, 3, 4, 4, 2, 5, 2, 4, 4, 4, 5, 4, 4, 4, 4, 4, 4, 4, 5, 4, 4, 4, 4, 5, 3, 5, 4, 3, 5, 4, 4, 4, 2, 5, 3, 4, 4, 4, 4, 2, 4, 5, 4, 2, 4, 5, 4, 2, 5, 4, 4, 4, 4, 5, 4, 2, 4, 4, 4, 5, 2, 4, 4, 4, 4, 4, 4, 4, 4, 4, 5, 3, 4, 4, 5, 4, 4, 4, 4, 4, 4, 4, 2, 3, 4, 5, 2, 4, 3, 4, 3, 5, 2, 5, 4, 4, 5, 2, 4, 4, 5, 3, 4, 4, 4, 4, 4, 4, 4, 2, 4, 4, 3, 4, 4, 3, 5, 5, 5, 5, 2, 2, 5, 4, 4, 2, 5, 4, 5, 2, 5, 4, 4, 4, 4, 4, 3, 4, 5, 4, 3, 4, 4, 5, 4, 5, 4, 4, 4, 3, 4, 5, 2, 4, 4, 4, 3, 4, 4, 4, 5, 4, 4, 4, 4, 5, 4, 5, 5, 5, 3, 4, 3, 2, 3, 5, 3, 4, 5, 4, 4, 3, 5, 4, 3, 4, 2, 4, 3, 3, 3, 2, 2, 4, 3, 3, 5, 4, 5, 2, 3, 4, 4, 4, 4, 4, 3, 2, 5, 4, 2, 4, 4, 4, 4, 5, 4, 3, 4, 4, 3, 5, 5, 4, 3, 4, 3, 5, 5, 4, 3, 4, 5, 4, 3, 5, 3, 2, 2, 4, 4, 4, 4, 4, 4, 5, 4, 4, 4, 3, 5, 4, 4, 4, 4, 4, 4, 4, 4, 5, 4, 4, 4, 3, 4, 4, 4, 5, 3, 4, 5, 4, 4, 2, 4, 2, 5, 4, 4, 5, 2, 4, 4, 4, 2, 2, 3, 4, 4, 4, 4, 5, 5, 2, 3, 4, 4, 4, 4, 4, 4, 5, 4, 5, 4, 3, 4, 4, 4, 3, 4, 2, 4, 2, 4, 2, 3, 4, 4, 4, 4, 4, 5, 4, 4, 4, 4, 2, 5, 2, 5, 4, 4, 4, 4, 4, 3, 5, 3, 4, 5, 4, 4, 5, 5, 4, 4, 5, 5, 4, 5, 2, 4, 4, 3, 3, 4, 5, 4, 4, 3, 4, 5, 5, 5, 5, 4, 5, 4, 4, 2, 4, 4, 4, 4, 4, 4, 4, 2, 3, 4, 4, 4, 3, 5, 5, 3, 2, 3, 4, 5, 5, 4, 4, 4, 2, 4, 3, 4, 5, 4, 2, 2, 5, 5, 5, 4, 3, 4, 4, 4, 4, 4, 4, 4, 4, 4, 4, 2, 3, 5, 4, 4, 4, 5, 3, 4, 4, 4, 4, 3, 4, 4, 4, 4, 5, 4, 5, 4, 2, 4, 5, 4, 4, 4, 4, 5, 5, 3, 2, 4, 4, 3, 4, 4, 4, 4, 4, 4, 4, 5, 5, 5, 4, 4, 4, 3, 3, 4, 5, 5, 5, 4, 4, 4, 5, 5, 4, 5, 5, 4, 3, 4, 3, 5, 4, 2, 4, 4, 4, 3, 4, 4, 3, 4, 2, 4, 5, 4, 4, 4, 5, 3, 4, 5, 5, 4, 4, 2, 5, 4, 4, 5, 5, 4, 5, 2, 2, 4, 5, 5, 5, 4, 5, 4, 4, 5, 2, 5, 3, 4, 4, 4, 4, 4, 4, 4, 5, 2, 4, 2, 5, 5, 3, 4, 5, 5, 5, 2, 4, 4, 5, 4, 2, 4, 4, 2, 2, 5, 3, 4, 4, 5, 3, 5, 4, 2, 4, 4, 2, 4, 5, 4, 4, 4, 4, 4, 2, 4, 4, 4, 4, 5, 2, 4, 4, 4, 4, 2, 4, 5, 5, 3, 4, 4, 4, 4, 4, 3, 4, 4, 3, 5, 4, 3, 4, 4, 4, 4, 5, 5, 4, 4, 2, 4, 3, 4, 4, 4, 4, 5, 3, 4, 5, 4, 2, 5, 4, 2, 5, 4, 4, 3, 4, 2, 5, 4, 4, 4, 4, 2, 2, 4, 4, 4, 3, 4, 4, 4, 4, 4, 4, 4, 4, 4, 3, 3, 4, 4, 2, 4, 4, 4, 4, 3, 5, 5, 4, 4, 3, 4, 4, 4, 3, 4, 4, 5, 3, 3, 5, 5, 3, 4, 2, 3, 4, 5, 4, 4, 4, 5, 5, 3, 4, 4, 5, 3, 5, 4, 5, 4, 4, 4, 3], ['Alto', 'Bajo', 'Medio', 'Alto', 'Alto', 'Alto', 'Alto', 'Alto', 'Bajo', 'Bajo', 'Medio', 'Bajo', 'Bajo', 'Bajo', 'Medio', 'Alto', 'Medio', 'Alto', 'Bajo', 'Medio', 'Medio', 'Bajo', 'Alto', 'Alto', 'Alto', 'Alto', 'Alto', 'Alto', 'Medio', 'Alto', 'Bajo', 'Bajo', 'Alto', 'Medio', 'Bajo', 'Alto', 'Medio', 'Alto', 'Bajo', 'Alto', 'Bajo', 'Medio', 'Medio', 'Alto', 'Alto', 'Medio', 'Medio', 'Bajo', 'Medio', 'Medio', 'Bajo', 'Bajo', 'Alto', 'Bajo', 'Bajo', 'Alto', 'Medio', 'Bajo', 'Bajo', 'Medio', 'Medio', 'Alto', 'Medio', 'Alto', 'Medio', 'Alto', 'Bajo', 'Alto', 'Medio', 'Medio', 'Medio', 'Medio', 'Alto', 'Medio', 'Alto', 'Bajo', 'Alto', 'Medio', 'Alto', 'Alto', 'Medio', 'Alto', 'Alto', 'Bajo', 'Alto', 'Medio', 'Medio', 'Medio', 'Medio', 'Medio', 'Bajo', 'Medio', 'Medio', 'Bajo', 'Alto', 'Bajo', 'Medio', 'Medio', 'Medio', 'Medio', 'Alto', 'Medio', 'Bajo', 'Medio', 'Bajo', 'Medio', 'Alto', 'Medio', 'Medio', 'Bajo', 'Medio', 'Medio', 'Medio', 'Medio', 'Medio', 'Bajo', 'Bajo', 'Alto', 'Alto', 'Medio', 'Bajo', 'Medio', 'Bajo', 'Bajo', 'Bajo', 'Alto', 'Alto', 'Medio', 'Bajo', 'Medio', 'Bajo', 'Bajo', 'Medio', 'Bajo', 'Medio', 'Alto', 'Medio', 'Alto', 'Medio', 'Bajo', 'Alto', 'Medio', 'Medio', 'Alto', 'Alto', 'Alto', 'Bajo', 'Medio', 'Bajo', 'Alto', 'Medio', 'Alto', 'Bajo', 'Bajo', 'Alto', 'Bajo', 'Alto', 'Alto', 'Alto', 'Medio', 'Medio', 'Alto', 'Medio', 'Bajo', 'Alto', 'Bajo', 'Medio', 'Alto', 'Bajo', 'Bajo', 'Alto', 'Medio', 'Alto', 'Bajo', 'Bajo', 'Medio', 'Alto', 'Bajo', 'Alto', 'Bajo', 'Bajo', 'Medio', 'Bajo', 'Medio', 'Alto', 'Alto', 'Bajo', 'Bajo', 'Medio', 'Bajo', 'Alto', 'Bajo', 'Medio', 'Bajo', 'Alto', 'Bajo', 'Medio', 'Medio', 'Alto', 'Medio', 'Bajo', 'Alto', 'Alto', 'Bajo', 'Alto', 'Alto', 'Alto', 'Medio', 'Alto', 'Alto', 'Bajo', 'Alto', 'Medio', 'Alto', 'Medio', 'Bajo', 'Bajo', 'Alto', 'Alto', 'Medio', 'Medio', 'Alto', 'Bajo', 'Bajo', 'Bajo', 'Medio', 'Bajo', 'Bajo', 'Bajo', 'Medio', 'Medio', 'Bajo', 'Alto', 'Bajo', 'Bajo', 'Bajo', 'Medio', 'Alto', 'Medio', 'Alto', 'Medio', 'Alto', 'Medio', 'Bajo', 'Alto', 'Alto', 'Bajo', 'Bajo', 'Bajo', 'Medio', 'Bajo', 'Alto', 'Bajo', 'Bajo', 'Medio', 'Alto', 'Alto', 'Medio', 'Bajo', 'Medio', 'Medio', 'Bajo', 'Alto', 'Medio', 'Alto', 'Alto', 'Bajo', 'Bajo', 'Alto', 'Alto', 'Alto', 'Bajo', 'Alto', 'Medio', 'Alto', 'Alto', 'Bajo', 'Bajo', 'Medio', 'Medio', 'Alto', 'Medio', 'Alto', 'Medio', 'Medio', 'Alto', 'Alto', 'Medio', 'Alto', 'Bajo', 'Alto', 'Bajo', 'Bajo', 'Bajo', 'Alto', 'Bajo', 'Bajo', 'Bajo', 'Medio', 'Alto', 'Medio', 'Medio', 'Alto', 'Alto', 'Bajo', 'Alto', 'Medio', 'Medio', 'Bajo', 'Medio', 'Medio', 'Bajo', 'Bajo', 'Medio', 'Medio', 'Alto', 'Medio', 'Alto', 'Alto', 'Alto', 'Alto', 'Bajo', 'Alto', 'Bajo', 'Alto', 'Medio', 'Alto', 'Medio', 'Alto', 'Alto', 'Medio', 'Bajo', 'Alto', 'Alto', 'Medio', 'Bajo', 'Medio', 'Medio', 'Alto', 'Medio', 'Alto', 'Alto', 'Bajo', 'Medio', 'Bajo', 'Alto', 'Medio', 'Medio', 'Bajo', 'Medio', 'Bajo', 'Medio', 'Medio', 'Alto', 'Alto', 'Bajo', 'Medio', 'Alto', 'Bajo', 'Bajo', 'Medio', 'Bajo', 'Alto', 'Alto', 'Medio', 'Bajo', 'Alto', 'Alto', 'Medio', 'Bajo', 'Bajo', 'Alto', 'Alto', 'Medio', 'Alto', 'Alto', 'Medio', 'Alto', 'Alto', 'Bajo', 'Bajo', 'Bajo', 'Alto', 'Alto', 'Bajo', 'Medio', 'Alto', 'Alto', 'Alto', 'Alto', 'Medio', 'Medio', 'Alto', 'Bajo', 'Alto', 'Medio', 'Bajo', 'Medio', 'Bajo', 'Bajo', 'Medio', 'Bajo', 'Medio', 'Medio', 'Medio', 'Medio', 'Bajo', 'Bajo', 'Bajo', 'Medio', 'Medio', 'Alto', 'Alto', 'Alto', 'Bajo', 'Bajo', 'Medio', 'Alto', 'Alto', 'Alto', 'Bajo', 'Medio', 'Alto', 'Alto', 'Medio', 'Bajo', 'Medio', 'Bajo', 'Medio', 'Bajo', 'Medio', 'Bajo', 'Medio', 'Medio', 'Bajo', 'Bajo', 'Alto', 'Alto', 'Alto', 'Bajo', 'Bajo', 'Medio', 'Bajo', 'Bajo', 'Medio', 'Medio', 'Medio', 'Bajo', 'Medio', 'Alto', 'Bajo', 'Alto', 'Alto', 'Bajo', 'Bajo', 'Medio', 'Alto', 'Medio', 'Medio', 'Bajo', 'Medio', 'Alto', 'Bajo', 'Alto', 'Alto', 'Medio', 'Medio', 'Bajo', 'Medio', 'Medio', 'Alto', 'Bajo', 'Bajo', 'Bajo', 'Alto', 'Medio', 'Alto', 'Medio', 'Alto', 'Alto', 'Bajo', 'Alto', 'Alto', 'Medio', 'Medio', 'Alto', 'Alto', 'Medio', 'Medio', 'Bajo', 'Medio', 'Alto', 'Bajo', 'Bajo', 'Bajo', 'Medio', 'Medio', 'Bajo', 'Bajo', 'Medio', 'Alto', 'Alto', 'Medio', 'Bajo', 'Alto', 'Alto', 'Bajo', 'Alto', 'Medio', 'Bajo', 'Medio', 'Medio', 'Medio', 'Medio', 'Bajo', 'Alto', 'Bajo', 'Medio', 'Bajo', 'Alto', 'Bajo', 'Bajo', 'Medio', 'Medio', 'Bajo', 'Medio', 'Bajo', 'Alto', 'Bajo', 'Medio', 'Medio', 'Bajo', 'Alto', 'Alto', 'Alto', 'Medio', 'Bajo', 'Alto', 'Alto', 'Medio', 'Alto', 'Alto', 'Alto', 'Medio', 'Bajo', 'Alto', 'Bajo', 'Bajo', 'Medio', 'Medio', 'Medio', 'Medio', 'Bajo', 'Medio', 'Medio', 'Medio', 'Bajo', 'Alto', 'Bajo', 'Medio', 'Alto', 'Bajo', 'Bajo', 'Medio', 'Bajo', 'Medio', 'Medio', 'Medio', 'Alto', 'Medio', 'Alto', 'Alto', 'Medio', 'Alto', 'Alto', 'Medio', 'Medio', 'Bajo', 'Bajo', 'Medio', 'Alto', 'Medio', 'Medio', 'Bajo', 'Bajo', 'Alto', 'Medio', 'Medio', 'Bajo', 'Medio', 'Bajo', 'Medio', 'Bajo', 'Alto', 'Alto', 'Bajo', 'Alto', 'Alto', 'Alto', 'Medio', 'Bajo', 'Medio', 'Medio', 'Bajo', 'Medio', 'Alto', 'Bajo', 'Alto', 'Alto', 'Medio', 'Medio', 'Alto', 'Bajo', 'Bajo', 'Alto', 'Bajo', 'Bajo', 'Medio', 'Medio', 'Bajo', 'Bajo', 'Bajo', 'Bajo', 'Bajo', 'Bajo', 'Bajo', 'Medio', 'Medio', 'Alto', 'Alto', 'Medio', 'Alto', 'Medio', 'Medio', 'Alto', 'Bajo', 'Alto', 'Medio', 'Bajo', 'Alto', 'Bajo', 'Alto', 'Alto', 'Bajo', 'Medio', 'Bajo', 'Bajo', 'Bajo', 'Medio', 'Alto', 'Bajo', 'Bajo', 'Bajo', 'Alto', 'Alto', 'Bajo', 'Medio', 'Bajo', 'Medio', 'Medio', 'Alto', 'Bajo', 'Medio', 'Alto', 'Medio', 'Alto', 'Bajo', 'Alto', 'Medio', 'Medio', 'Medio', 'Alto', 'Alto', 'Alto', 'Alto', 'Medio', 'Medio', 'Medio', 'Bajo', 'Alto', 'Alto', 'Medio', 'Medio', 'Alto', 'Alto', 'Bajo', 'Medio', 'Medio', 'Alto', 'Medio', 'Bajo', 'Alto', 'Alto', 'Alto', 'Alto', 'Medio', 'Bajo', 'Bajo', 'Alto', 'Alto', 'Medio', 'Medio', 'Alto', 'Bajo', 'Alto', 'Bajo', 'Alto', 'Medio', 'Alto', 'Medio', 'Bajo', 'Bajo', 'Bajo', 'Bajo', 'Bajo', 'Alto', 'Alto', 'Medio', 'Alto', 'Medio', 'Bajo', 'Bajo', 'Bajo', 'Alto', 'Medio', 'Alto', 'Alto', 'Medio', 'Alto', 'Medio', 'Medio', 'Medio', 'Bajo', 'Bajo', 'Medio', 'Bajo', 'Alto', 'Medio', 'Alto', 'Bajo', 'Bajo', 'Medio', 'Bajo', 'Medio', 'Alto', 'Bajo', 'Medio', 'Bajo', 'Bajo', 'Alto', 'Alto', 'Medio', 'Bajo', 'Alto', 'Bajo', 'Medio', 'Medio', 'Bajo', 'Medio', 'Bajo', 'Bajo', 'Alto', 'Alto', 'Bajo', 'Medio', 'Medio', 'Bajo', 'Bajo', 'Alto', 'Medio', 'Bajo', 'Bajo', 'Alto', 'Alto', 'Alto', 'Bajo', 'Alto', 'Alto', 'Alto', 'Medio', 'Bajo', 'Bajo', 'Alto', 'Bajo', 'Bajo', 'Bajo', 'Bajo', 'Bajo', 'Bajo', 'Bajo', 'Alto', 'Bajo', 'Bajo', 'Medio', 'Bajo', 'Medio', 'Bajo', 'Bajo', 'Alto', 'Alto', 'Bajo', 'Bajo', 'Bajo', 'Medio', 'Bajo', 'Alto', 'Bajo', 'Alto', 'Alto', 'Medio', 'Alto', 'Bajo', 'Alto', 'Medio', 'Medio', 'Bajo', 'Bajo', 'Medio', 'Alto', 'Alto', 'Bajo', 'Alto', 'Medio', 'Medio', 'Bajo', 'Medio', 'Bajo', 'Medio', 'Bajo', 'Medio', 'Alto', 'Bajo', 'Alto', 'Bajo', 'Alto', 'Alto', 'Medio', 'Medio', 'Bajo', 'Alto', 'Alto', 'Medio', 'Medio', 'Medio', 'Medio', 'Alto', 'Bajo', 'Bajo', 'Medio', 'Alto', 'Alto', 'Medio', 'Medio', 'Bajo', 'Alto', 'Alto', 'Medio', 'Bajo', 'Bajo', 'Alto', 'Medio', 'Medio', 'Alto', 'Alto', 'Alto', 'Alto', 'Alto', 'Medio', 'Alto', 'Medio', 'Medio', 'Medio', 'Bajo', 'Bajo', 'Medio', 'Bajo', 'Bajo', 'Bajo', 'Medio', 'Medio', 'Alto', 'Medio', 'Bajo', 'Bajo', 'Bajo', 'Alto', 'Medio', 'Alto', 'Medio', 'Bajo', 'Medio', 'Bajo', 'Medio', 'Alto', 'Medio', 'Medio', 'Bajo', 'Bajo', 'Bajo', 'Bajo', 'Bajo', 'Alto', 'Medio', 'Bajo', 'Medio', 'Alto', 'Alto', 'Bajo', 'Bajo', 'Alto', 'Bajo', 'Bajo', 'Bajo', 'Bajo', 'Bajo', 'Alto', 'Bajo', 'Bajo', 'Medio', 'Alto', 'Bajo', 'Bajo', 'Bajo', 'Alto', 'Medio', 'Bajo', 'Alto', 'Bajo', 'Alto', 'Alto', 'Bajo', 'Alto', 'Medio', 'Alto', 'Bajo', 'Alto', 'Bajo', 'Medio', 'Medio', 'Medio', 'Alto', 'Medio', 'Bajo', 'Bajo', 'Medio', 'Medio', 'Bajo', 'Alto', 'Bajo', 'Medio', 'Bajo', 'Alto', 'Bajo', 'Alto', 'Medio', 'Bajo', 'Alto', 'Medio', 'Alto', 'Medio', 'Alto', 'Alto', 'Medio', 'Alto', 'Alto', 'Alto', 'Alto', 'Medio', 'Medio', 'Bajo', 'Bajo', 'Medio', 'Medio', 'Alto', 'Alto', 'Alto', 'Bajo', 'Bajo', 'Bajo', 'Alto', 'Medio', 'Bajo', 'Medio', 'Bajo', 'Bajo', 'Medio', 'Bajo', 'Alto', 'Medio', 'Bajo', 'Alto', 'Alto', 'Alto', 'Medio', 'Medio', 'Medio', 'Bajo', 'Bajo', 'Bajo', 'Bajo', 'Bajo'], ['1', '1', '1', '1', '1', '1', '1', '3', '1', '1', '2', '1', '1', '1', '1', '1', '1', '1', '2', '1', '1', '1', '1', '1', '1', '1', '1', '1', '1', '3', '1', '1', '1', '1', '1', '1', '1', '1', '1', '3', '1', '1', '1', '1', '3', '1', '1', '1', '3', '3', '1', '1', '1', '3', '1', '1', '1', '1', '1', '1', '1', '1', '1', '1', '1', '1', '1', '1', '1', '1', '1', '1', '3', '3', '1', '1', '1', '1', '1', '3', '1', '1', '1', '2', '1', '1', '1', '1', '1', '1', '1', '1', '1', '1', '1', '1', '1', '1', '1', '1', '1', '1', '1', '1', '1', '1', '1', '1', '1', '1', '1', '1', '2', '1', '1', '1', '1', '1', '3', '1', '1', '1', '1', '3', '1', '1', '1', '1', '1', '3', '1', '1', '3', '1', '1', '1', '3', '1', '1', '1', '1', '1', '1', '1', '1', '1', '1', '1', '1', '1', '1', '1', '3', '1', '1', '2', '1', '1', '2', '1', '1', '1', '1', '1', '3', '1', '1', '1', '3', '1', '3', '1', '1', '3', '1', '1', '1', '1', '1', '1', '1', '3', '1', '1', '1', '1', '1', '1', '1', '1', '3', '1', '1', '1', '1', '1', '1', '1', '1', '1', '1', '1', '3', '1', '1', '1', '1', '2', '3', '1', '1', '1', '1', '1', '1', '1', '1', '1', '1', '1', '1', '1', '1', '1', '1', '1', '1', '3', '2', '1', '1', '1', '1', '3', '1', '1', '1', '3', '1', '1', '1', '3', '1', '1', '1', '1', '1', '1', '3', '1', '1', '1', '1', '1', '1', '1', '1', '1', '2', '1', '1', '1', '1', '1', '3', '1', '1', '1', '1', '1', '3', '2', '1', '3', '2', '3', '1', '1', '1', '3', '3', '1', '1', '1', '2', '3', '1', '1', '3', '1', '1', '1', '2', '1', '2', '1', '1', '1', '1', '3', '1', '1', '1', '1', '1', '1', '1', '3', '1', '1', '1', '1', '1', '1', '1', '1', '1', '1', '3', '2', '1', '1', '1', '3', '1', '1', '2', '1', '1', '1', '1', '1', '1', '1', '1', '1', '1', '1', '1', '1', '1', '1', '1', '1', '1', '1', '1', '1', '1', '1', '1', '1', '1', '3', '2', '1', '1', '1', '1', '1', '1', '1', '1', '1', '1', '1', '3', '1', '1', '3', '3', '1', '1', '1', '1', '1', '3', '1', '1', '1', '1', '3', '1', '1', '1', '1', '3', '1', '1', '1', '1', '1', '2', '1', '1', '3', '3', '1', '1', '1', '1', '1', '1', '1', '1', '1', '1', '1', '1', '1', '1', '1', '1', '1', '1', '3', '1', '1', '1', '3', '1', '1', '1', '1', '3', '1', '1', '3', '1', '1', '1', '1', '1', '1', '1', '1', '1', '1', '1', '3', '3', '1', '1', '1', '1', '1', '3', '3', '3', '1', '1', '1', '1', '1', '1', '1', '1', '1', '1', '2', '3', '3', '1', '1', '3', '1', '1', '1', '1', '3', '1', '1', '1', '1', '3', '1', '3', '1', '3', '1', '1', '1', '1', '1', '1', '1', '1', '1', '1', '1', '1', '1', '3', '1', '3', '1', '3', '1', '1', '1', '1', '1', '1', '1', '3', '1', '1', '1', '1', '1', '1', '1', '1', '3', '1', '1', '1', '1', '1', '2', '1', '1', '1', '1', '1', '1', '1', '1', '1', '1', '1', '1', '3', '1', '1', '1', '1', '1', '1', '1', '1', '1', '3', '1', '3', '1', '1', '1', '1', '1', '1', '1', '1', '3', '1', '1', '1', '1', '1', '1', '1', '3', '1', '1', '1', '1', '3', '1', '1', '1', '1', '1', '2', '1', '1', '1', '1', '1', '1', '1', '1', '1', '1', '1', '1', '1', '1', '3', '1', '3', '1', '1', '1', '2', '3', '1', '1', '3', '1', '1', '3', '3', '1', '1', '1', '1', '1', '3', '1', '1', '2', '1', '1', '1', '2', '2', '1', '1', '2', '1', '1', '2', '1', '1', '1', '1', '1', '1', '1', '1', '1', '1', '3', '1', '1', '3', '1', '1', '1', '1', '1', '2', '1', '1', '1', '1', '1', '1', '1', '1', '3', '1', '1', '1', '1', '1', '1', '3', '1', '1', '1', '1', '1', '3', '1', '1', '2', '1', '1', '1', '1', '1', '3', '1', '1', '3', '3', '1', '1', '1', '1', '1', '1', '1', '1', '1', '3', '1', '1', '1', '3', '1', '1', '1', '1', '1', '1', '1', '1', '1', '3', '1', '1', '1', '3', '1', '3', '3', '3', '3', '1', '1', '3', '3', '3', '1', '3', '1', '1', '3', '1', '1', '1', '1', '3', '1', '1', '1', '1', '1', '1', '1', '1', '3', '1', '1', '1', '1', '1', '1', '1', '1', '1', '1', '3', '1', '1', '3', '1', '1', '1', '1', '1', '1', '1', '1', '1', '1', '1', '1', '1', '1', '1', '1', '1', '1', '2', '1', '1', '1', '1', '1', '1', '1', '1', '1', '1', '3', '1', '1', '3', '1', '3', '1', '1', '1', '1', '1', '1', '1', '1', '1', '3', '1', '1', '1', '1', '1', '1', '3', '1', '1', '1', '1', '1', '1', '1', '3', '1', '3', '1', '1', '1', '1', '1', '1', '1', '3', '1', '3', '1', '1', '1', '1', '1', '1', '1', '1', '1', '1', '1', '3', '1', '1', '1', '2', '1', '1', '1', '1', '1', '1', '1', '3', '1', '1', '1', '1', '3', '1', '1', '1', '1', '1', '3', '1', '3', '1', '3', '1', '1', '1', '1', '1', '1', '1', '1', '1', '1', '1', '1', '1', '1', '1', '1', '1', '3', '1', '1', '1', '3', '1', '3', '3', '1', '3', '1', '1', '1', '1', '1', '3', '1', '3', '1', '1', '1', '1', '3', '1', '1', '1', '1', '1', '2', '1', '1', '1', '3', '1', '1', '1', '1', '1', '1', '3', '1', '1', '1', '3', '1', '1', '1', '1', '2', '1', '3', '3', '3', '1', '1', '1', '1', '1', '3', '1', '1', '1', '1', '1', '3', '1', '1', '1', '1', '1', '1', '3', '1', '1', '1', '1', '1', '1', '3', '1', '1', '1', '1', '1', '1', '1', '1', '1', '1', '3', '3', '3', '1', '1', '1', '3', '1', '1', '2', '1', '1', '1', '3', '1', '1', '1', '1', '1', '1', '1', '1', '1', '1', '1', '1', '1', '1', '1', '1', '1', '3', '1', '1', '1', '1'], ['2', '2', '2', '2', '4', '2', '3', '3', '3', '3', '4', '3', '3', '3', '3', '2', '3', '3', '2', '2', '2', '2', '3', '1', '3', '2', '3', '3', '2', '3', '2', '2', '3', '3', '2', '3', '2', '3', '2', '3', '3', '3', '3', '3', '1', '2', '3', '2', '2', '3', '2', '2', '2', '3', '3', '4', '2', '2', '3', '2', '2', '2', '2', '4', '3', '3', '2', '2', '3', '4', '2', '2', '4', '2', '3', '3', '3', '3', '2', '2', '3', '2', '2', '2', '1', '2', '3', '3', '4', '4', '3', '2', '2', '3', '2', '3', '3', '2', '2', '3', '2', '2', '4', '3', '4', '2', '3', '2', '3', '3', '3', '3', '3', '2', '3', '2', '3', '4', '3', '2', '2', '3', '4', '3', '4', '4', '2', '4', '3', '4', '2', '3', '2', '3', '3', '3', '2', '3', '3', '4', '4', '4', '3', '3', '3', '3', '2', '2', '2', '2', '3', '2', '3', '3', '3', '3', '2', '3', '3', '2', '3', '2', '3', '2', '2', '4', '2', '3', '2', '3', '3', '3', '3', '3', '2', '2', '3', '1', '2', '3', '4', '3', '3', '3', '2', '4', '3', '3', '3', '3', '3', '2', '3', '3', '3', '4', '3', '2', '3', '2', '3', '3', '4', '3', '3', '3', '3', '2', '4', '4', '2', '3', '3', '2', '3', '3', '4', '2', '3', '3', '1', '3', '3', '3', '4', '3', '2', '3', '3', '3', '3', '3', '4', '3', '2', '2', '2', '3', '3', '3', '3', '2', '3', '2', '2', '3', '3', '3', '3', '3', '3', '2', '3', '2', '4', '3', '2', '3', '3', '3', '3', '2', '3', '3', '1', '4', '2', '3', '4', '3', '2', '2', '3', '3', '3', '3', '2', '3', '3', '4', '3', '3', '3', '3', '3', '4', '2', '4', '4', '3', '3', '3', '2', '3', '2', '3', '4', '3', '3', '4', '3', '3', '3', '2', '2', '4', '2', '3', '3', '3', '3', '3', '3', '4', '3', '3', '3', '3', '3', '2', '3', '3', '4', '4', '4', '3', '2', '3', '4', '3', '4', '3', '3', '4', '2', '2', '3', '4', '1', '3', '4', '4', '3', '3', '3', '4', '3', '3', '4', '3', '2', '1', '2', '4', '4', '3', '3', '3', '2', '3', '3', '3', '3', '4', '1', '2', '2', '2', '4', '3', '3', '4', '3', '3', '2', '2', '3', '2', '3', '3', '2', '2', '2', '3', '2', '3', '3', '3', '4', '2', '3', '3', '3', '3', '4', '2', '2', '4', '2', '3', '3', '2', '3', '2', '4', '3', '2', '3', '4', '3', '3', '3', '2', '2', '2', '3', '2', '3', '3', '1', '3', '3', '3', '2', '3', '3', '3', '3', '3', '4', '3', '3', '2', '4', '4', '2', '3', '4', '2', '4', '4', '3', '3', '3', '3', '3', '3', '2', '3', '3', '2', '4', '2', '3', '3', '3', '3', '4', '4', '2', '2', '1', '2', '3', '3', '2', '1', '4', '3', '2', '2', '2', '2', '3', '3', '3', '3', '4', '2', '4', '3', '3', '2', '4', '3', '3', '4', '3', '3', '3', '3', '2', '4', '3', '4', '3', '2', '3', '3', '3', '4', '3', '3', '3', '3', '3', '3', '3', '2', '3', '2', '2', '3', '4', '4', '3', '3', '3', '3', '2', '4', '4', '3', '2', '3', '3', '4', '3', '3', '3', '3', '3', '2', '2', '3', '3', '2', '3', '3', '4', '3', '3', '3', '4', '2', '3', '4', '2', '4', '3', '2', '3', '3', '3', '3', '2', '4', '2', '2', '3', '2', '2', '3', '3', '2', '3', '4', '3', '2', '2', '2', '4', '2', '2', '3', '2', '2', '3', '4', '3', '4', '4', '2', '3', '3', '3', '3', '3', '3', '3', '3', '3', '3', '4', '3', '4', '4', '3', '3', '2', '4', '3', '2', '3', '2', '2', '2', '3', '3', '3', '4', '3', '3', '3', '3', '2', '3', '3', '3', '3', '4', '3', '3', '3', '3', '3', '3', '3', '2', '2', '4', '3', '2', '3', '4', '3', '3', '3', '3', '3', '3', '4', '3', '3', '3', '3', '3', '3', '3', '2', '3', '3', '4', '3', '3', '2', '4', '3', '2', '3', '3', '3', '3', '3', '4', '3', '3', '4', '3', '4', '3', '2', '3', '4', '4', '3', '2', '2', '3', '3', '2', '2', '3', '3', '3', '2', '2', '3', '2', '3', '4', '4', '3', '2', '3', '3', '3', '2', '3', '3', '3', '4', '3', '3', '2', '3', '3', '2', '2', '4', '3', '3', '2', '3', '3', '2', '3', '2', '4', '4', '3', '3', '3', '3', '3', '2', '3', '3', '3', '3', '4', '2', '3', '2', '4', '3', '4', '3', '3', '2', '2', '3', '2', '3', '3', '4', '3', '3', '4', '4', '3', '3', '2', '2', '3', '3', '4', '2', '3', '3', '3', '4', '2', '3', '3', '2', '3', '3', '2', '4', '3', '4', '3', '3', '4', '3', '3', '3', '2', '1', '3', '4', '4', '3', '2', '2', '3', '4', '4', '3', '2', '4', '3', '3', '4', '2', '3', '3', '4', '3', '4', '3', '4', '3', '3', '3', '2', '4', '3', '2', '4', '3', '2', '3', '3', '3', '3', '2', '3', '2', '3', '3', '2', '3', '2', '2', '3', '4', '4', '2', '2', '3', '2', '3', '2', '2', '3', '4', '2', '3', '3', '2', '3', '3', '3', '3', '4', '3', '3', '4', '3', '2', '2', '3', '4', '3', '3', '2', '3', '2', '3', '3', '3', '3', '3', '2', '2', '3', '3', '4', '2', '3', '3', '2', '3', '4', '3', '2', '3', '3', '3', '3', '3', '3', '2', '2', '1', '3', '2', '4', '2', '2', '2', '2', '2', '2', '4', '3', '3', '2', '3', '2', '3', '2', '3', '3', '3', '3', '3', '2', '3', '3', '3', '3', '3', '3', '2', '3', '2', '2', '4', '4', '2', '3', '3', '3', '2', '3', '2', '4', '3', '3', '3', '3', '2', '3', '2', '3', '3', '2', '3', '3', '4', '3', '4', '3', '3', '3', '3', '3', '3', '3', '2', '3', '4', '2', '3', '3', '2', '2', '4', '3', '3', '4', '3', '4', '3', '4', '2', '4', '3', '3', '4', '2', '3', '4', '3', '3', '3', '3', '3', '3', '3', '2', '3', '2', '3', '1', '2', '4', '3', '3', '4', '3', '4', '3', '3', '3', '4', '2', '1'], [2, 3, 2, 2, 2, 3, 3, 3, 2, 2, 3, 3, 3, 2, 2, 2, 3, 4, 3, 4, 2, 2, 2, 2, 2, 2, 3, 3, 4, 3, 4, 3, 3, 3, 3, 1, 3, 3, 4, 2, 4, 3, 3, 4, 3, 3, 2, 3, 3, 3, 4, 3, 3, 3, 2, 4, 3, 3, 2, 3, 2, 3, 2, 4, 3, 3, 3, 3, 3, 3, 4, 3, 3, 4, 3, 3, 2, 3, 3, 3, 2, 4, 2, 3, 3, 3, 2, 2, 4, 4, 3, 4, 3, 4, 2, 4, 3, 2, 3, 3, 4, 3, 3, 3, 3, 2, 2, 3, 3, 2, 3, 4, 2, 2, 3, 4, 3, 2, 1, 3, 2, 2, 3, 3, 3, 3, 3, 2, 2, 2, 2, 2, 3, 3, 3, 3, 4, 3, 2, 3, 4, 2, 3, 3, 3, 3, 3, 2, 3, 4, 3, 3, 3, 3, 3, 3, 3, 3, 2, 4, 3, 3, 3, 2, 3, 2, 2, 3, 4, 3, 3, 2, 3, 1, 3, 3, 3, 3, 3, 2, 4, 3, 3, 4, 4, 3, 3, 4, 3, 3, 3, 3, 3, 3, 3, 3, 3, 3, 2, 3, 4, 3, 3, 4, 3, 3, 2, 3, 2, 4, 3, 2, 3, 1, 3, 2, 3, 3, 2, 2, 2, 2, 3, 3, 3, 3, 3, 4, 2, 3, 3, 2, 3, 3, 3, 3, 3, 3, 3, 3, 2, 3, 2, 3, 3, 3, 3, 2, 3, 3, 2, 3, 2, 2, 3, 2, 2, 3, 3, 3, 3, 3, 2, 3, 2, 2, 3, 3, 3, 3, 3, 4, 3, 2, 3, 3, 3, 3, 2, 3, 2, 2, 2, 3, 2, 3, 2, 2, 3, 3, 2, 3, 3, 2, 2, 3, 3, 3, 3, 2, 3, 3, 2, 1, 3, 2, 3, 3, 3, 4, 3, 3, 2, 2, 3, 3, 3, 3, 3, 3, 2, 3, 3, 3, 2, 3, 3, 3, 3, 2, 2, 3, 3, 3, 3, 3, 4, 3, 2, 3, 3, 3, 3, 2, 3, 3, 3, 2, 3, 2, 3, 3, 2, 3, 4, 4, 2, 4, 2, 3, 3, 2, 2, 3, 4, 2, 2, 4, 3, 2, 3, 3, 3, 3, 3, 3, 2, 3, 3, 3, 2, 2, 4, 3, 3, 2, 3, 2, 3, 4, 2, 3, 3, 3, 3, 4, 3, 3, 3, 3, 3, 4, 3, 3, 3, 2, 4, 2, 3, 3, 4, 2, 4, 3, 4, 2, 2, 3, 3, 3, 2, 3, 3, 3, 3, 2, 3, 2, 3, 3, 3, 3, 3, 3, 4, 4, 3, 2, 3, 3, 3, 2, 3, 2, 3, 4, 3, 3, 3, 3, 4, 3, 2, 2, 4, 3, 3, 3, 4, 2, 2, 2, 3, 3, 4, 3, 3, 2, 3, 3, 2, 3, 3, 2, 2, 3, 3, 2, 2, 2, 4, 3, 3, 3, 3, 2, 3, 2, 4, 4, 3, 2, 3, 3, 3, 2, 3, 3, 3, 3, 4, 2, 3, 3, 3, 3, 2, 4, 3, 3, 3, 3, 3, 3, 4, 3, 1, 4, 2, 2, 3, 3, 3, 3, 3, 3, 3, 3, 3, 3, 2, 2, 3, 2, 3, 2, 3, 3, 2, 3, 2, 4, 2, 3, 3, 2, 3, 3, 4, 3, 3, 2, 4, 3, 3, 3, 3, 2, 2, 3, 3, 4, 3, 4, 3, 2, 3, 2, 3, 4, 3, 2, 2, 2, 2, 3, 3, 3, 2, 3, 4, 4, 2, 3, 3, 2, 3, 3, 3, 3, 3, 4, 2, 2, 2, 3, 2, 3, 2, 2, 3, 2, 2, 4, 1, 3, 3, 3, 3, 2, 3, 3, 2, 4, 2, 2, 3, 2, 3, 4, 4, 2, 3, 2, 3, 2, 3, 4, 4, 4, 3, 2, 3, 3, 2, 2, 3, 3, 3, 3, 4, 3, 3, 3, 3, 4, 3, 4, 2, 3, 3, 2, 3, 2, 3, 3, 1, 3, 4, 3, 2, 2, 2, 2, 4, 2, 2, 3, 2, 3, 3, 3, 2, 2, 3, 3, 2, 3, 3, 4, 2, 2, 3, 4, 3, 3, 3, 2, 4, 2, 2, 3, 3, 4, 2, 3, 2, 3, 3, 3, 3, 3, 2, 3, 2, 2, 3, 1, 3, 2, 3, 3, 4, 3, 3, 3, 2, 3, 3, 3, 3, 2, 3, 3, 3, 2, 3, 2, 3, 3, 2, 4, 3, 4, 3, 3, 2, 2, 3, 3, 4, 4, 3, 3, 3, 3, 2, 1, 3, 3, 4, 3, 2, 2, 3, 2, 4, 4, 1, 3, 2, 3, 2, 4, 4, 4, 4, 3, 2, 3, 2, 2, 2, 2, 2, 2, 4, 3, 3, 2, 3, 3, 3, 4, 2, 3, 3, 2, 2, 3, 2, 3, 3, 3, 3, 3, 3, 3, 3, 3, 4, 3, 3, 3, 3, 3, 3, 3, 3, 3, 3, 2, 3, 4, 2, 4, 3, 3, 2, 3, 3, 3, 3, 3, 2, 3, 3, 2, 4, 3, 2, 3, 2, 3, 4, 2, 2, 3, 2, 3, 4, 4, 3, 3, 2, 3, 3, 4, 3, 3, 2, 3, 3, 3, 4, 3, 3, 3, 4, 3, 3, 2, 3, 2, 2, 4, 2, 3, 4, 2, 2, 4, 2, 4, 4, 2, 3, 4, 3, 3, 2, 2, 2, 4, 2, 4, 2, 3, 4, 3, 3, 2, 4, 4, 3, 3, 2, 3, 2, 2, 2, 3, 4, 2, 2, 2, 2, 3, 3, 3, 3, 3, 4, 4, 3, 2, 3, 3, 3, 3, 3, 2, 4, 2, 4, 1, 3, 2, 2, 2, 4, 2, 3, 3, 2, 3, 2, 3, 2, 3, 4, 3, 2, 3, 3, 3, 2, 3, 1, 3, 4, 4, 3, 2, 2, 3, 3, 3, 2, 4, 3, 4, 3, 4, 1, 2, 4, 3, 2, 3, 3, 3, 4, 3, 4, 3, 2, 4, 3, 2, 3, 3, 4, 3, 3, 2, 3, 2, 2, 3, 2, 2, 4, 3, 2, 3, 3, 3, 4, 4, 2]]\n"
          ]
        }
      ]
    },
    {
      "cell_type": "code",
      "metadata": {
        "id": "3R9SOmWwc4ck"
      },
      "source": [
        "#Transformamos nuestras listas en un DataFrame\n",
        "df = pd.DataFrame(df_listas_n)"
      ],
      "execution_count": null,
      "outputs": []
    },
    {
      "cell_type": "code",
      "metadata": {
        "id": "oKFU71gMc4cl"
      },
      "source": [
        "#Transponemos, debido a que se imprime en formato Clave - Valor\n",
        "df = df.transpose()"
      ],
      "execution_count": null,
      "outputs": []
    },
    {
      "cell_type": "code",
      "metadata": {
        "id": "JpiTvKApc4co"
      },
      "source": [
        "#Asignamos los nombres a nuestras columnas\n",
        "df.columns = ['Genero', 'Edad', 'Nivel educativo', 'Nivel de ingresos', 'Responsable de la compra en el hogar', 'Autoestimación de la calidad nutricional', 'Conocimientos en nutrición']"
      ],
      "execution_count": null,
      "outputs": []
    },
    {
      "cell_type": "code",
      "metadata": {
        "id": "7Rq26QZlc4cp"
      },
      "source": [
        "#Creamos las edades de forma aleatoria en los rangos establecidos en los parametros anteriores. \n",
        "df.loc[df['Edad']== 1, 'Edad'] = df['Edad'].apply(lambda x: random.randint(18,30))\n",
        "df.loc[df['Edad']== 2, 'Edad'] = df['Edad'].apply(lambda x: random.randint(31,50))\n",
        "df.loc[df['Edad']== 3, 'Edad'] = df['Edad'].apply(lambda x: random.randint(51,70))"
      ],
      "execution_count": null,
      "outputs": []
    },
    {
      "cell_type": "code",
      "metadata": {
        "id": "dlrVH7AAc4cq"
      },
      "source": [
        "#Creamos los salarios de forma aleatoria en los rangos establecidos en los parametros anteriores. \n",
        "df.loc[df['Nivel de ingresos']== 'Alto', 'Nivel de ingresos'] = 475370\n",
        "df.loc[df['Nivel de ingresos']== 'Medio', 'Nivel de ingresos'] = df['Nivel de ingresos'].apply(lambda x: random.randint(235898 , 475370))\n",
        "df.loc[df['Nivel de ingresos']== 'Bajo', 'Nivel de ingresos'] = 235898"
      ],
      "execution_count": null,
      "outputs": []
    },
    {
      "cell_type": "code",
      "metadata": {
        "id": "_y4L19eec4cp"
      },
      "source": [
        "#Guardamos nuestro documento en formato .CSV\n",
        "df.to_csv('room5_n.csv')"
      ],
      "execution_count": null,
      "outputs": []
    }
  ]
}